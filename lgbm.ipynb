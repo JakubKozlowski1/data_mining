{
 "cells": [
  {
   "cell_type": "code",
   "execution_count": null,
   "metadata": {},
   "outputs": [],
   "source": [
    "import pickle\n",
    "import os\n",
    "import lightgbm as lgb\n",
    "\n",
    "from functions.cleaning import cleaning_rf\n",
    "\n",
    "from sklearn.model_selection import train_test_split, cross_validate, GridSearchCV\n",
    "from sklearn.preprocessing import StandardScaler, OneHotEncoder\n",
    "from sklearn.compose import ColumnTransformer\n",
    "\n",
    "from imblearn.pipeline import Pipeline\n",
    "from imblearn.under_sampling import RandomUnderSampler\n",
    "from imblearn.over_sampling import RandomOverSampler"
   ]
  },
  {
   "cell_type": "markdown",
   "metadata": {},
   "source": [
    "# Import of clean data"
   ]
  },
  {
   "cell_type": "code",
   "execution_count": null,
   "metadata": {},
   "outputs": [],
   "source": [
    "df = cleaning_rf()"
   ]
  },
  {
   "cell_type": "code",
   "execution_count": null,
   "metadata": {},
   "outputs": [],
   "source": [
    "X = df.drop(columns=['EVENT_LABEL'])\n",
    "y = df['EVENT_LABEL']\n",
    "X_train, X_test, y_train, y_test = train_test_split(X, y, test_size=0.3, stratify=y, random_state=0)"
   ]
  },
  {
   "cell_type": "code",
   "execution_count": null,
   "metadata": {},
   "outputs": [],
   "source": [
    "df.head()"
   ]
  },
  {
   "cell_type": "markdown",
   "metadata": {},
   "source": [
    "# LightGBM"
   ]
  },
  {
   "cell_type": "markdown",
   "metadata": {},
   "source": [
    "## Undersampling"
   ]
  },
  {
   "cell_type": "markdown",
   "metadata": {},
   "source": [
    "### Preprocess"
   ]
  },
  {
   "cell_type": "code",
   "execution_count": null,
   "metadata": {},
   "outputs": [],
   "source": [
    "cat_labels_u_lgb = X_train.select_dtypes('object').columns\n",
    "num_labels_u_lgb = X_train.select_dtypes('number').columns\n",
    "\n",
    "under_sampler_u_lgb = RandomUnderSampler()\n",
    "cat_preprocessor_u_lgb = OneHotEncoder(drop='first', handle_unknown='ignore')\n",
    "num_preprocessor_u_lgb = StandardScaler()\n",
    "\n",
    "preprocessor_u_lgb = ColumnTransformer([('cat', cat_preprocessor_u_lgb, cat_labels_u_lgb),\n",
    "                                        ('num', num_preprocessor_u_lgb, num_labels_u_lgb)])"
   ]
  },
  {
   "cell_type": "markdown",
   "metadata": {},
   "source": [
    "### Model"
   ]
  },
  {
   "cell_type": "code",
   "execution_count": null,
   "metadata": {},
   "outputs": [],
   "source": [
    "model_u_lgb = lgb.LGBMClassifier(n_jobs=-1, random_state=42)"
   ]
  },
  {
   "cell_type": "markdown",
   "metadata": {},
   "source": [
    "### Pipeline"
   ]
  },
  {
   "cell_type": "code",
   "execution_count": null,
   "metadata": {},
   "outputs": [],
   "source": [
    "u_lgb = Pipeline([('under_sampler', under_sampler_u_lgb),\n",
    "                  ('preprocessor', preprocessor_u_lgb),\n",
    "                  ('LGB', model_u_lgb)])"
   ]
  },
  {
   "cell_type": "code",
   "execution_count": null,
   "metadata": {},
   "outputs": [],
   "source": [
    "results = cross_validate(u_lgb, X_train, y_train, return_train_score = True, scoring='recall_macro')\n",
    "print(f'Average Train Score: {results['train_score'].mean()}')\n",
    "print(f'Average Test Score: {results['test_score'].mean()}')"
   ]
  },
  {
   "cell_type": "code",
   "execution_count": null,
   "metadata": {},
   "outputs": [],
   "source": [
    "u_grid = {\n",
    "    \n",
    "}"
   ]
  },
  {
   "cell_type": "code",
   "execution_count": null,
   "metadata": {},
   "outputs": [],
   "source": [
    "u_grid_search = GridSearchCV(estimator=u_lgb, param_grid=u_grid, cv=5, scoring='recall_macro', return_train_score=True)\n",
    "u_grid_search.fit(X_train, y_train)\n",
    "print(f'Average Train Score: {u_grid_search.cv_results_['mean_train_score'].mean()}')\n",
    "print(f'Average Test Score: {u_grid_search.cv_results_['mean_test_score'].mean()}')"
   ]
  },
  {
   "cell_type": "markdown",
   "metadata": {},
   "source": [
    "## Oversampling"
   ]
  },
  {
   "cell_type": "markdown",
   "metadata": {},
   "source": [
    "### Preprocess"
   ]
  },
  {
   "cell_type": "code",
   "execution_count": null,
   "metadata": {},
   "outputs": [],
   "source": [
    "cat_labels_o_lgb = X_train.select_dtypes('object').columns\n",
    "num_labels_o_lgb = X_train.select_dtypes('number').columns\n",
    "\n",
    "under_sampler_o_lgb = RandomOverSampler()\n",
    "cat_preprocessor_o_lgb = OneHotEncoder(drop='first', handle_unknown='ignore')\n",
    "num_preprocessor_o_lgb = StandardScaler()\n",
    "\n",
    "preprocessor_o_lgb = ColumnTransformer([('cat', cat_preprocessor_o_lgb, cat_labels_o_lgb),\n",
    "                                        ('num', num_preprocessor_o_lgb, num_labels_o_lgb)])"
   ]
  },
  {
   "cell_type": "markdown",
   "metadata": {},
   "source": [
    "### Model"
   ]
  },
  {
   "cell_type": "code",
   "execution_count": null,
   "metadata": {},
   "outputs": [],
   "source": [
    "model_o_lgb = lgb.LGBMClassifier(n_jobs=-1, random_state=42)"
   ]
  },
  {
   "cell_type": "markdown",
   "metadata": {},
   "source": [
    "### Pipeline"
   ]
  },
  {
   "cell_type": "code",
   "execution_count": null,
   "metadata": {},
   "outputs": [],
   "source": [
    "o_lgb = Pipeline([('under_sampler', under_sampler_o_lgb),\n",
    "                  ('preprocessor', preprocessor_o_lgb),\n",
    "                  ('LGB', model_o_lgb)])"
   ]
  },
  {
   "cell_type": "code",
   "execution_count": null,
   "metadata": {},
   "outputs": [],
   "source": [
    "results = cross_validate(o_lgb, X_train, y_train, return_train_score = True, scoring='recall_macro')\n",
    "print(f'Average Train Score: {results['train_score'].mean()}')\n",
    "print(f'Average Test Score: {results['test_score'].mean()}')"
   ]
  },
  {
   "cell_type": "code",
   "execution_count": null,
   "metadata": {},
   "outputs": [],
   "source": [
    "o_grid = {\n",
    "    \n",
    "}"
   ]
  },
  {
   "cell_type": "code",
   "execution_count": null,
   "metadata": {},
   "outputs": [],
   "source": [
    "o_grid_search = GridSearchCV(estimator=u_lgb, param_grid=o_grid, cv=5, scoring='recall_macro', return_train_score=True)\n",
    "o_grid_search.fit(X_train, y_train)\n",
    "print(f'Average Train Score: {o_grid_search.cv_results_['mean_train_score'].mean()}')\n",
    "print(f'Average Test Score: {o_grid_search.cv_results_['mean_test_score'].mean()}')"
   ]
  },
  {
   "cell_type": "markdown",
   "metadata": {},
   "source": [
    "# Export"
   ]
  },
  {
   "cell_type": "code",
   "execution_count": null,
   "metadata": {},
   "outputs": [],
   "source": [
    "with open('models/under_lgb.pkl', 'wb') as f:\n",
    "    pickle.dump(u_grid_search, f)\n",
    "f.close()"
   ]
  },
  {
   "cell_type": "code",
   "execution_count": null,
   "metadata": {},
   "outputs": [],
   "source": [
    "with open('models/over_lgb.pkl', 'wb') as f:\n",
    "    pickle.dump(o_grid_search, f)\n",
    "f.close()"
   ]
  }
 ],
 "metadata": {
  "language_info": {
   "name": "python"
  }
 },
 "nbformat": 4,
 "nbformat_minor": 2
}
