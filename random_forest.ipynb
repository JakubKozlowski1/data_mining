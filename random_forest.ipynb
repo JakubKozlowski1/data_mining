{
 "cells": [
  {
   "cell_type": "code",
   "execution_count": 18,
   "metadata": {},
   "outputs": [],
   "source": [
    "import pickle\n",
    "\n",
    "from functions.cleaning import cleaning_rf\n",
    "from functions.preprocessor import preprocessor\n",
    "from functions.preprocessor_t import preprocessor_t\n",
    "\n",
    "\n",
    "import matplotlib.pyplot as plt\n",
    "\n",
    "from sklearn.model_selection import train_test_split, cross_validate, GridSearchCV\n",
    "from sklearn.ensemble import RandomForestClassifier\n",
    "\n",
    "from imblearn.pipeline import Pipeline\n",
    "from imblearn.under_sampling import RandomUnderSampler\n",
    "from imblearn.over_sampling import SMOTE"
   ]
  },
  {
   "cell_type": "markdown",
   "metadata": {},
   "source": [
    "# Import of clean data"
   ]
  },
  {
   "cell_type": "code",
   "execution_count": 19,
   "metadata": {},
   "outputs": [],
   "source": [
    "df = cleaning_rf()"
   ]
  },
  {
   "cell_type": "code",
   "execution_count": 20,
   "metadata": {},
   "outputs": [],
   "source": [
    "X = df.drop(columns=['EVENT_LABEL'])\n",
    "y = df['EVENT_LABEL']\n",
    "X_train, X_test, y_train, y_test = train_test_split(X, y, test_size=.3, random_state=0, stratify=y)"
   ]
  },
  {
   "cell_type": "code",
   "execution_count": 4,
   "metadata": {},
   "outputs": [
    {
     "data": {
      "text/html": [
       "<div>\n",
       "<style scoped>\n",
       "    .dataframe tbody tr th:only-of-type {\n",
       "        vertical-align: middle;\n",
       "    }\n",
       "\n",
       "    .dataframe tbody tr th {\n",
       "        vertical-align: top;\n",
       "    }\n",
       "\n",
       "    .dataframe thead th {\n",
       "        text-align: right;\n",
       "    }\n",
       "</style>\n",
       "<table border=\"1\" class=\"dataframe\">\n",
       "  <thead>\n",
       "    <tr style=\"text-align: right;\">\n",
       "      <th></th>\n",
       "      <th>transaction_amt</th>\n",
       "      <th>transaction_adj_amt</th>\n",
       "      <th>historic_velocity</th>\n",
       "      <th>currency</th>\n",
       "      <th>cvv</th>\n",
       "      <th>signature_image</th>\n",
       "      <th>transaction_type</th>\n",
       "      <th>transaction_env</th>\n",
       "      <th>tranaction_initiate</th>\n",
       "      <th>inital_amount</th>\n",
       "      <th>EVENT_LABEL</th>\n",
       "      <th>day</th>\n",
       "      <th>month</th>\n",
       "      <th>browser</th>\n",
       "      <th>os</th>\n",
       "      <th>acc_age</th>\n",
       "      <th>d_last_logon</th>\n",
       "    </tr>\n",
       "  </thead>\n",
       "  <tbody>\n",
       "    <tr>\n",
       "      <th>0</th>\n",
       "      <td>2167.0</td>\n",
       "      <td>56.0</td>\n",
       "      <td>2572.0</td>\n",
       "      <td>cad</td>\n",
       "      <td>D</td>\n",
       "      <td>F</td>\n",
       "      <td>U</td>\n",
       "      <td>X</td>\n",
       "      <td>O</td>\n",
       "      <td>13646.0</td>\n",
       "      <td>0</td>\n",
       "      <td>Tue</td>\n",
       "      <td>Dec</td>\n",
       "      <td>Opera</td>\n",
       "      <td>Windows</td>\n",
       "      <td>4</td>\n",
       "      <td>3</td>\n",
       "    </tr>\n",
       "    <tr>\n",
       "      <th>1</th>\n",
       "      <td>2045.0</td>\n",
       "      <td>48.0</td>\n",
       "      <td>4517.0</td>\n",
       "      <td>cad</td>\n",
       "      <td>X</td>\n",
       "      <td>X</td>\n",
       "      <td>H</td>\n",
       "      <td>W</td>\n",
       "      <td>J</td>\n",
       "      <td>11930.0</td>\n",
       "      <td>0</td>\n",
       "      <td>Tue</td>\n",
       "      <td>Jun</td>\n",
       "      <td>Opera</td>\n",
       "      <td>Linux</td>\n",
       "      <td>3</td>\n",
       "      <td>1</td>\n",
       "    </tr>\n",
       "    <tr>\n",
       "      <th>2</th>\n",
       "      <td>2892.0</td>\n",
       "      <td>61.0</td>\n",
       "      <td>5007.0</td>\n",
       "      <td>cad</td>\n",
       "      <td>X</td>\n",
       "      <td>Q</td>\n",
       "      <td>X</td>\n",
       "      <td>X</td>\n",
       "      <td>T</td>\n",
       "      <td>7412.0</td>\n",
       "      <td>0</td>\n",
       "      <td>Mon</td>\n",
       "      <td>May</td>\n",
       "      <td>Mozilla</td>\n",
       "      <td>Linux</td>\n",
       "      <td>7</td>\n",
       "      <td>5</td>\n",
       "    </tr>\n",
       "    <tr>\n",
       "      <th>3</th>\n",
       "      <td>3040.0</td>\n",
       "      <td>28.0</td>\n",
       "      <td>6022.0</td>\n",
       "      <td>usd</td>\n",
       "      <td>G</td>\n",
       "      <td>G</td>\n",
       "      <td>C</td>\n",
       "      <td>N</td>\n",
       "      <td>M</td>\n",
       "      <td>4623.0</td>\n",
       "      <td>0</td>\n",
       "      <td>Thu</td>\n",
       "      <td>Mar</td>\n",
       "      <td>Mozilla</td>\n",
       "      <td>Macintosh</td>\n",
       "      <td>3</td>\n",
       "      <td>2</td>\n",
       "    </tr>\n",
       "    <tr>\n",
       "      <th>4</th>\n",
       "      <td>2976.0</td>\n",
       "      <td>66.0</td>\n",
       "      <td>2600.0</td>\n",
       "      <td>cad</td>\n",
       "      <td>X</td>\n",
       "      <td>F</td>\n",
       "      <td>F</td>\n",
       "      <td>G</td>\n",
       "      <td>K</td>\n",
       "      <td>1905.0</td>\n",
       "      <td>0</td>\n",
       "      <td>Sat</td>\n",
       "      <td>Mar</td>\n",
       "      <td>Mozilla</td>\n",
       "      <td>Linux</td>\n",
       "      <td>4</td>\n",
       "      <td>2</td>\n",
       "    </tr>\n",
       "  </tbody>\n",
       "</table>\n",
       "</div>"
      ],
      "text/plain": [
       "   transaction_amt  transaction_adj_amt  historic_velocity currency cvv  \\\n",
       "0           2167.0                 56.0             2572.0      cad   D   \n",
       "1           2045.0                 48.0             4517.0      cad   X   \n",
       "2           2892.0                 61.0             5007.0      cad   X   \n",
       "3           3040.0                 28.0             6022.0      usd   G   \n",
       "4           2976.0                 66.0             2600.0      cad   X   \n",
       "\n",
       "  signature_image transaction_type transaction_env tranaction_initiate  \\\n",
       "0               F                U               X                   O   \n",
       "1               X                H               W                   J   \n",
       "2               Q                X               X                   T   \n",
       "3               G                C               N                   M   \n",
       "4               F                F               G                   K   \n",
       "\n",
       "   inital_amount  EVENT_LABEL  day month  browser         os  acc_age  \\\n",
       "0        13646.0            0  Tue   Dec    Opera    Windows        4   \n",
       "1        11930.0            0  Tue   Jun    Opera      Linux        3   \n",
       "2         7412.0            0  Mon   May  Mozilla      Linux        7   \n",
       "3         4623.0            0  Thu   Mar  Mozilla  Macintosh        3   \n",
       "4         1905.0            0  Sat   Mar  Mozilla      Linux        4   \n",
       "\n",
       "   d_last_logon  \n",
       "0             3  \n",
       "1             1  \n",
       "2             5  \n",
       "3             2  \n",
       "4             2  "
      ]
     },
     "execution_count": 4,
     "metadata": {},
     "output_type": "execute_result"
    }
   ],
   "source": [
    "df.head()"
   ]
  },
  {
   "cell_type": "markdown",
   "metadata": {},
   "source": [
    "## Preprocessor"
   ]
  },
  {
   "cell_type": "code",
   "execution_count": 21,
   "metadata": {},
   "outputs": [],
   "source": [
    "preprocessor = preprocessor(X_train)\n",
    "preprocessor_t = preprocessor_t(X_train)"
   ]
  },
  {
   "cell_type": "markdown",
   "metadata": {},
   "source": [
    "## Model"
   ]
  },
  {
   "cell_type": "code",
   "execution_count": 22,
   "metadata": {},
   "outputs": [],
   "source": [
    "RandomForest = RandomForestClassifier(n_jobs=-1, random_state=42)"
   ]
  },
  {
   "cell_type": "markdown",
   "metadata": {},
   "source": [
    "# Random forest classifier"
   ]
  },
  {
   "cell_type": "markdown",
   "metadata": {},
   "source": [
    "## Undersampling"
   ]
  },
  {
   "cell_type": "markdown",
   "metadata": {},
   "source": [
    "### Under sampler"
   ]
  },
  {
   "cell_type": "code",
   "execution_count": 23,
   "metadata": {},
   "outputs": [],
   "source": [
    "under_sampler = RandomUnderSampler()"
   ]
  },
  {
   "cell_type": "markdown",
   "metadata": {},
   "source": [
    "### Pipeline"
   ]
  },
  {
   "cell_type": "code",
   "execution_count": 24,
   "metadata": {},
   "outputs": [],
   "source": [
    "u_rf = Pipeline([('under_sampler', under_sampler),\n",
    "                 ('preprocessor', preprocessor_t),\n",
    "                 ('RandomForest', RandomForest)])"
   ]
  },
  {
   "cell_type": "code",
   "execution_count": 9,
   "metadata": {},
   "outputs": [
    {
     "name": "stderr",
     "output_type": "stream",
     "text": [
      "/Users/jakubkozlowski/anaconda3/envs/data_mining/lib/python3.12/site-packages/sklearn/preprocessing/_encoders.py:227: UserWarning: Found unknown categories in columns [1, 2, 3, 4] during transform. These unknown categories will be encoded as all zeros\n",
      "  warnings.warn(\n",
      "/Users/jakubkozlowski/anaconda3/envs/data_mining/lib/python3.12/site-packages/sklearn/preprocessing/_encoders.py:227: UserWarning: Found unknown categories in columns [2, 3, 4] during transform. These unknown categories will be encoded as all zeros\n",
      "  warnings.warn(\n",
      "/Users/jakubkozlowski/anaconda3/envs/data_mining/lib/python3.12/site-packages/sklearn/preprocessing/_encoders.py:227: UserWarning: Found unknown categories in columns [2, 3] during transform. These unknown categories will be encoded as all zeros\n",
      "  warnings.warn(\n",
      "/Users/jakubkozlowski/anaconda3/envs/data_mining/lib/python3.12/site-packages/sklearn/preprocessing/_encoders.py:227: UserWarning: Found unknown categories in columns [1, 2, 3, 4] during transform. These unknown categories will be encoded as all zeros\n",
      "  warnings.warn(\n",
      "/Users/jakubkozlowski/anaconda3/envs/data_mining/lib/python3.12/site-packages/sklearn/preprocessing/_encoders.py:227: UserWarning: Found unknown categories in columns [2, 3, 4] during transform. These unknown categories will be encoded as all zeros\n",
      "  warnings.warn(\n",
      "/Users/jakubkozlowski/anaconda3/envs/data_mining/lib/python3.12/site-packages/sklearn/preprocessing/_encoders.py:227: UserWarning: Found unknown categories in columns [1, 2, 3, 4] during transform. These unknown categories will be encoded as all zeros\n",
      "  warnings.warn(\n",
      "/Users/jakubkozlowski/anaconda3/envs/data_mining/lib/python3.12/site-packages/sklearn/preprocessing/_encoders.py:227: UserWarning: Found unknown categories in columns [1, 2, 3, 4] during transform. These unknown categories will be encoded as all zeros\n",
      "  warnings.warn(\n",
      "/Users/jakubkozlowski/anaconda3/envs/data_mining/lib/python3.12/site-packages/sklearn/preprocessing/_encoders.py:227: UserWarning: Found unknown categories in columns [1, 2, 3, 4] during transform. These unknown categories will be encoded as all zeros\n",
      "  warnings.warn(\n",
      "/Users/jakubkozlowski/anaconda3/envs/data_mining/lib/python3.12/site-packages/sklearn/preprocessing/_encoders.py:227: UserWarning: Found unknown categories in columns [1] during transform. These unknown categories will be encoded as all zeros\n",
      "  warnings.warn(\n",
      "/Users/jakubkozlowski/anaconda3/envs/data_mining/lib/python3.12/site-packages/sklearn/preprocessing/_encoders.py:227: UserWarning: Found unknown categories in columns [1, 2] during transform. These unknown categories will be encoded as all zeros\n",
      "  warnings.warn(\n"
     ]
    },
    {
     "name": "stdout",
     "output_type": "stream",
     "text": [
      "Average Train Score: 0.963662173936559\n",
      "Average Test Score: 0.8964692155168958\n"
     ]
    }
   ],
   "source": [
    "results = cross_validate(u_rf, X_train, y_train,cv=5, return_train_score = True, scoring='recall_macro')\n",
    "print(f'Average Train Score: {results['train_score'].mean()}')\n",
    "print(f'Average Test Score: {results['test_score'].mean()}')"
   ]
  },
  {
   "cell_type": "code",
   "execution_count": 25,
   "metadata": {},
   "outputs": [],
   "source": [
    "u_grid = {'RandomForest__max_depth': [5, 8, 10, 15],\n",
    "          'RandomForest__max_features': [3, 6, 9, 13],\n",
    "          'RandomForest__min_samples_split': [10, 20, 25],\n",
    "          'RandomForest__min_samples_leaf': [10, 15]}"
   ]
  },
  {
   "cell_type": "code",
   "execution_count": 26,
   "metadata": {},
   "outputs": [
    {
     "name": "stdout",
     "output_type": "stream",
     "text": [
      "Average Train Score: 0.8610666499645032\n",
      "Average Test Score: 0.8524938119208914\n"
     ]
    }
   ],
   "source": [
    "u_grid_search = GridSearchCV(estimator=u_rf, param_grid=u_grid, cv=5, scoring='recall_macro', return_train_score=True)\n",
    "u_grid_search.fit(X_train, y_train)\n",
    "print(f'Average Train Score: {u_grid_search.cv_results_['mean_train_score'].mean()}')\n",
    "print(f'Average Test Score: {u_grid_search.cv_results_['mean_test_score'].mean()}')"
   ]
  },
  {
   "cell_type": "code",
   "execution_count": 27,
   "metadata": {},
   "outputs": [
    {
     "data": {
      "text/html": [
       "<style>#sk-container-id-1 {color: black;}#sk-container-id-1 pre{padding: 0;}#sk-container-id-1 div.sk-toggleable {background-color: white;}#sk-container-id-1 label.sk-toggleable__label {cursor: pointer;display: block;width: 100%;margin-bottom: 0;padding: 0.3em;box-sizing: border-box;text-align: center;}#sk-container-id-1 label.sk-toggleable__label-arrow:before {content: \"▸\";float: left;margin-right: 0.25em;color: #696969;}#sk-container-id-1 label.sk-toggleable__label-arrow:hover:before {color: black;}#sk-container-id-1 div.sk-estimator:hover label.sk-toggleable__label-arrow:before {color: black;}#sk-container-id-1 div.sk-toggleable__content {max-height: 0;max-width: 0;overflow: hidden;text-align: left;background-color: #f0f8ff;}#sk-container-id-1 div.sk-toggleable__content pre {margin: 0.2em;color: black;border-radius: 0.25em;background-color: #f0f8ff;}#sk-container-id-1 input.sk-toggleable__control:checked~div.sk-toggleable__content {max-height: 200px;max-width: 100%;overflow: auto;}#sk-container-id-1 input.sk-toggleable__control:checked~label.sk-toggleable__label-arrow:before {content: \"▾\";}#sk-container-id-1 div.sk-estimator input.sk-toggleable__control:checked~label.sk-toggleable__label {background-color: #d4ebff;}#sk-container-id-1 div.sk-label input.sk-toggleable__control:checked~label.sk-toggleable__label {background-color: #d4ebff;}#sk-container-id-1 input.sk-hidden--visually {border: 0;clip: rect(1px 1px 1px 1px);clip: rect(1px, 1px, 1px, 1px);height: 1px;margin: -1px;overflow: hidden;padding: 0;position: absolute;width: 1px;}#sk-container-id-1 div.sk-estimator {font-family: monospace;background-color: #f0f8ff;border: 1px dotted black;border-radius: 0.25em;box-sizing: border-box;margin-bottom: 0.5em;}#sk-container-id-1 div.sk-estimator:hover {background-color: #d4ebff;}#sk-container-id-1 div.sk-parallel-item::after {content: \"\";width: 100%;border-bottom: 1px solid gray;flex-grow: 1;}#sk-container-id-1 div.sk-label:hover label.sk-toggleable__label {background-color: #d4ebff;}#sk-container-id-1 div.sk-serial::before {content: \"\";position: absolute;border-left: 1px solid gray;box-sizing: border-box;top: 0;bottom: 0;left: 50%;z-index: 0;}#sk-container-id-1 div.sk-serial {display: flex;flex-direction: column;align-items: center;background-color: white;padding-right: 0.2em;padding-left: 0.2em;position: relative;}#sk-container-id-1 div.sk-item {position: relative;z-index: 1;}#sk-container-id-1 div.sk-parallel {display: flex;align-items: stretch;justify-content: center;background-color: white;position: relative;}#sk-container-id-1 div.sk-item::before, #sk-container-id-1 div.sk-parallel-item::before {content: \"\";position: absolute;border-left: 1px solid gray;box-sizing: border-box;top: 0;bottom: 0;left: 50%;z-index: -1;}#sk-container-id-1 div.sk-parallel-item {display: flex;flex-direction: column;z-index: 1;position: relative;background-color: white;}#sk-container-id-1 div.sk-parallel-item:first-child::after {align-self: flex-end;width: 50%;}#sk-container-id-1 div.sk-parallel-item:last-child::after {align-self: flex-start;width: 50%;}#sk-container-id-1 div.sk-parallel-item:only-child::after {width: 0;}#sk-container-id-1 div.sk-dashed-wrapped {border: 1px dashed gray;margin: 0 0.4em 0.5em 0.4em;box-sizing: border-box;padding-bottom: 0.4em;background-color: white;}#sk-container-id-1 div.sk-label label {font-family: monospace;font-weight: bold;display: inline-block;line-height: 1.2em;}#sk-container-id-1 div.sk-label-container {text-align: center;}#sk-container-id-1 div.sk-container {/* jupyter's `normalize.less` sets `[hidden] { display: none; }` but bootstrap.min.css set `[hidden] { display: none !important; }` so we also need the `!important` here to be able to override the default hidden behavior on the sphinx rendered scikit-learn.org. See: https://github.com/scikit-learn/scikit-learn/issues/21755 */display: inline-block !important;position: relative;}#sk-container-id-1 div.sk-text-repr-fallback {display: none;}</style><div id=\"sk-container-id-1\" class=\"sk-top-container\"><div class=\"sk-text-repr-fallback\"><pre>Pipeline(steps=[(&#x27;under_sampler&#x27;, RandomUnderSampler()),\n",
       "                (&#x27;preprocessor&#x27;,\n",
       "                 ColumnTransformer(transformers=[(&#x27;num&#x27;, StandardScaler(),\n",
       "                                                  Index([&#x27;transaction_amt&#x27;, &#x27;transaction_adj_amt&#x27;, &#x27;historic_velocity&#x27;,\n",
       "       &#x27;inital_amount&#x27;, &#x27;acc_age&#x27;, &#x27;d_last_logon&#x27;],\n",
       "      dtype=&#x27;object&#x27;))])),\n",
       "                (&#x27;RandomForest&#x27;,\n",
       "                 RandomForestClassifier(max_depth=15, max_features=3,\n",
       "                                        min_samples_leaf=15,\n",
       "                                        min_samples_split=20, n_jobs=-1,\n",
       "                                        random_state=42))])</pre><b>In a Jupyter environment, please rerun this cell to show the HTML representation or trust the notebook. <br />On GitHub, the HTML representation is unable to render, please try loading this page with nbviewer.org.</b></div><div class=\"sk-container\" hidden><div class=\"sk-item sk-dashed-wrapped\"><div class=\"sk-label-container\"><div class=\"sk-label sk-toggleable\"><input class=\"sk-toggleable__control sk-hidden--visually\" id=\"sk-estimator-id-1\" type=\"checkbox\" ><label for=\"sk-estimator-id-1\" class=\"sk-toggleable__label sk-toggleable__label-arrow\">Pipeline</label><div class=\"sk-toggleable__content\"><pre>Pipeline(steps=[(&#x27;under_sampler&#x27;, RandomUnderSampler()),\n",
       "                (&#x27;preprocessor&#x27;,\n",
       "                 ColumnTransformer(transformers=[(&#x27;num&#x27;, StandardScaler(),\n",
       "                                                  Index([&#x27;transaction_amt&#x27;, &#x27;transaction_adj_amt&#x27;, &#x27;historic_velocity&#x27;,\n",
       "       &#x27;inital_amount&#x27;, &#x27;acc_age&#x27;, &#x27;d_last_logon&#x27;],\n",
       "      dtype=&#x27;object&#x27;))])),\n",
       "                (&#x27;RandomForest&#x27;,\n",
       "                 RandomForestClassifier(max_depth=15, max_features=3,\n",
       "                                        min_samples_leaf=15,\n",
       "                                        min_samples_split=20, n_jobs=-1,\n",
       "                                        random_state=42))])</pre></div></div></div><div class=\"sk-serial\"><div class=\"sk-item\"><div class=\"sk-estimator sk-toggleable\"><input class=\"sk-toggleable__control sk-hidden--visually\" id=\"sk-estimator-id-2\" type=\"checkbox\" ><label for=\"sk-estimator-id-2\" class=\"sk-toggleable__label sk-toggleable__label-arrow\">RandomUnderSampler</label><div class=\"sk-toggleable__content\"><pre>RandomUnderSampler()</pre></div></div></div><div class=\"sk-item sk-dashed-wrapped\"><div class=\"sk-label-container\"><div class=\"sk-label sk-toggleable\"><input class=\"sk-toggleable__control sk-hidden--visually\" id=\"sk-estimator-id-3\" type=\"checkbox\" ><label for=\"sk-estimator-id-3\" class=\"sk-toggleable__label sk-toggleable__label-arrow\">preprocessor: ColumnTransformer</label><div class=\"sk-toggleable__content\"><pre>ColumnTransformer(transformers=[(&#x27;num&#x27;, StandardScaler(),\n",
       "                                 Index([&#x27;transaction_amt&#x27;, &#x27;transaction_adj_amt&#x27;, &#x27;historic_velocity&#x27;,\n",
       "       &#x27;inital_amount&#x27;, &#x27;acc_age&#x27;, &#x27;d_last_logon&#x27;],\n",
       "      dtype=&#x27;object&#x27;))])</pre></div></div></div><div class=\"sk-parallel\"><div class=\"sk-parallel-item\"><div class=\"sk-item\"><div class=\"sk-label-container\"><div class=\"sk-label sk-toggleable\"><input class=\"sk-toggleable__control sk-hidden--visually\" id=\"sk-estimator-id-4\" type=\"checkbox\" ><label for=\"sk-estimator-id-4\" class=\"sk-toggleable__label sk-toggleable__label-arrow\">num</label><div class=\"sk-toggleable__content\"><pre>Index([&#x27;transaction_amt&#x27;, &#x27;transaction_adj_amt&#x27;, &#x27;historic_velocity&#x27;,\n",
       "       &#x27;inital_amount&#x27;, &#x27;acc_age&#x27;, &#x27;d_last_logon&#x27;],\n",
       "      dtype=&#x27;object&#x27;)</pre></div></div></div><div class=\"sk-serial\"><div class=\"sk-item\"><div class=\"sk-estimator sk-toggleable\"><input class=\"sk-toggleable__control sk-hidden--visually\" id=\"sk-estimator-id-5\" type=\"checkbox\" ><label for=\"sk-estimator-id-5\" class=\"sk-toggleable__label sk-toggleable__label-arrow\">StandardScaler</label><div class=\"sk-toggleable__content\"><pre>StandardScaler()</pre></div></div></div></div></div></div></div></div><div class=\"sk-item\"><div class=\"sk-estimator sk-toggleable\"><input class=\"sk-toggleable__control sk-hidden--visually\" id=\"sk-estimator-id-6\" type=\"checkbox\" ><label for=\"sk-estimator-id-6\" class=\"sk-toggleable__label sk-toggleable__label-arrow\">RandomForestClassifier</label><div class=\"sk-toggleable__content\"><pre>RandomForestClassifier(max_depth=15, max_features=3, min_samples_leaf=15,\n",
       "                       min_samples_split=20, n_jobs=-1, random_state=42)</pre></div></div></div></div></div></div></div>"
      ],
      "text/plain": [
       "Pipeline(steps=[('under_sampler', RandomUnderSampler()),\n",
       "                ('preprocessor',\n",
       "                 ColumnTransformer(transformers=[('num', StandardScaler(),\n",
       "                                                  Index(['transaction_amt', 'transaction_adj_amt', 'historic_velocity',\n",
       "       'inital_amount', 'acc_age', 'd_last_logon'],\n",
       "      dtype='object'))])),\n",
       "                ('RandomForest',\n",
       "                 RandomForestClassifier(max_depth=15, max_features=3,\n",
       "                                        min_samples_leaf=15,\n",
       "                                        min_samples_split=20, n_jobs=-1,\n",
       "                                        random_state=42))])"
      ]
     },
     "execution_count": 27,
     "metadata": {},
     "output_type": "execute_result"
    }
   ],
   "source": [
    "u_grid_search.best_estimator_"
   ]
  },
  {
   "cell_type": "code",
   "execution_count": null,
   "metadata": {},
   "outputs": [],
   "source": []
  },
  {
   "cell_type": "markdown",
   "metadata": {},
   "source": [
    "## Oversampling"
   ]
  },
  {
   "cell_type": "markdown",
   "metadata": {},
   "source": [
    "### Over sampler"
   ]
  },
  {
   "cell_type": "code",
   "execution_count": 13,
   "metadata": {},
   "outputs": [],
   "source": [
    "over_sampler = SMOTE()"
   ]
  },
  {
   "cell_type": "markdown",
   "metadata": {},
   "source": [
    "### Pipeline"
   ]
  },
  {
   "cell_type": "code",
   "execution_count": 14,
   "metadata": {},
   "outputs": [],
   "source": [
    "o_rf = Pipeline([('preprocessor', preprocessor),\n",
    "                 ('over_sampler', over_sampler),\n",
    "                 ('RandomForest', RandomForest)])"
   ]
  },
  {
   "cell_type": "code",
   "execution_count": 15,
   "metadata": {},
   "outputs": [
    {
     "name": "stderr",
     "output_type": "stream",
     "text": [
      "/Users/jakubkozlowski/anaconda3/envs/data_mining/lib/python3.12/site-packages/sklearn/preprocessing/_encoders.py:227: UserWarning: Found unknown categories in columns [1, 4] during transform. These unknown categories will be encoded as all zeros\n",
      "  warnings.warn(\n"
     ]
    },
    {
     "name": "stdout",
     "output_type": "stream",
     "text": [
      "Average Train Score: 1.0\n",
      "Average Test Score: 0.7981878284095776\n"
     ]
    }
   ],
   "source": [
    "results = cross_validate(o_rf, X_train, y_train, return_train_score = True, scoring='recall_macro')\n",
    "print(f'Average Train Score: {results['train_score'].mean()}')\n",
    "print(f'Average Test Score: {results['test_score'].mean()}')"
   ]
  },
  {
   "cell_type": "code",
   "execution_count": 16,
   "metadata": {},
   "outputs": [],
   "source": [
    "o_grid = {'RandomForest__max_depth': [5, 8, 12],\n",
    "          'RandomForest__max_features': [6, 9, 13],\n",
    "          'RandomForest__min_samples_split': [100, 200],\n",
    "          'RandomForest__min_samples_leaf': [50, 100]}"
   ]
  },
  {
   "cell_type": "code",
   "execution_count": null,
   "metadata": {},
   "outputs": [],
   "source": [
    "o_grid_search = GridSearchCV(estimator=o_rf, param_grid=o_grid, cv=3, scoring='recall_macro', return_train_score=True)\n",
    "o_grid_search.fit(X_train, y_train)\n",
    "print(f'Average Train Score: {o_grid_search.cv_results_['mean_train_score'].mean()}')\n",
    "print(f'Average Test Score: {o_grid_search.cv_results_['mean_test_score'].mean()}')"
   ]
  },
  {
   "cell_type": "code",
   "execution_count": 1,
   "metadata": {},
   "outputs": [
    {
     "ename": "NameError",
     "evalue": "name 'o_grid_search' is not defined",
     "output_type": "error",
     "traceback": [
      "\u001b[0;31m---------------------------------------------------------------------------\u001b[0m",
      "\u001b[0;31mNameError\u001b[0m                                 Traceback (most recent call last)",
      "Cell \u001b[0;32mIn[1], line 1\u001b[0m\n\u001b[0;32m----> 1\u001b[0m o_grid_search\u001b[38;5;241m.\u001b[39mbest_estimator_\n",
      "\u001b[0;31mNameError\u001b[0m: name 'o_grid_search' is not defined"
     ]
    }
   ],
   "source": [
    "o_grid_search.best_estimator_"
   ]
  },
  {
   "cell_type": "markdown",
   "metadata": {},
   "source": [
    "# Export"
   ]
  },
  {
   "cell_type": "code",
   "execution_count": 28,
   "metadata": {},
   "outputs": [],
   "source": [
    "with open('models/under_rf.pkl', 'wb') as f:\n",
    "    pickle.dump(u_grid_search, f)\n",
    "f.close()"
   ]
  },
  {
   "cell_type": "code",
   "execution_count": null,
   "metadata": {},
   "outputs": [],
   "source": [
    "with open('models/over_rf.pkl', 'wb') as f:\n",
    "    pickle.dump(o_grid_search, f)\n",
    "f.close()"
   ]
  }
 ],
 "metadata": {
  "kernelspec": {
   "display_name": "data_mining",
   "language": "python",
   "name": "python3"
  },
  "language_info": {
   "codemirror_mode": {
    "name": "ipython",
    "version": 3
   },
   "file_extension": ".py",
   "mimetype": "text/x-python",
   "name": "python",
   "nbconvert_exporter": "python",
   "pygments_lexer": "ipython3",
   "version": "3.12.2"
  }
 },
 "nbformat": 4,
 "nbformat_minor": 2
}
