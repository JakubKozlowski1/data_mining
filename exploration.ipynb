{
 "cells": [
  {
   "cell_type": "markdown",
   "metadata": {},
   "source": [
    "#TODO\n",
    "Global Ideas\n",
    "1. Są Ip address które mają kilka fruadów ale to do sprawdzenia jak będzie słabo\n",
    "    - Card bin podobny case, zmienna kategorialna ale wyrazona w liczbi, kilka tysiecy \n",
    "\n",
    "2. Usunięte zmienne moze jakis frequency encoding (jak bedzie slabo)\n",
    "3. **Variable selection**\n",
    "\n",
    "4. Bez komplikacji raczej wbudowanych na twardo reguł.\n",
    "\n",
    "Next to do:\n",
    "1. Stworzenie pliku, do oceny modeli.\n",
    "\n",
    "\n",
    "____\n",
    "\n",
    "If your dataset contains a mix of numeric and non-numeric columns and you want to perform outlier detection on it, you need to preprocess the data appropriately to handle both types of features. Here's a general approach you can take:\n",
    "\n",
    "Preprocess Non-Numeric Features: Encode categorical variables into numerical format using techniques like one-hot encoding or label encoding.\n",
    "Preprocess Numeric Features: Normalize numeric variables to ensure they are on a similar scale.\n",
    "Combine Preprocessing Steps: Use ColumnTransformer from scikit-learn to apply different preprocessing steps to numeric and non-numeric columns simultaneously.\n",
    "Apply Outlier Detection Algorithm: Once the data is preprocessed, apply an outlier detection algorithm such as Local Outlier Factor (LOF), Isolation Forest, or any other suitable method.\n",
    "Identify and Filter Outliers: Based on the outlier detection results, filter out the outliers from your dataset.\n"
   ]
  },
  {
   "cell_type": "code",
   "execution_count": 2,
   "metadata": {},
   "outputs": [],
   "source": [
    "import pandas as pd\n",
    "import numpy as np\n",
    "import matplotlib.pyplot as plt\n",
    "import seaborn as sns\n",
    "import os"
   ]
  },
  {
   "cell_type": "code",
   "execution_count": 3,
   "metadata": {},
   "outputs": [],
   "source": [
    "pd.set_option('display.max_columns', None)"
   ]
  },
  {
   "cell_type": "markdown",
   "metadata": {},
   "source": [
    "# Loading data"
   ]
  },
  {
   "cell_type": "code",
   "execution_count": 4,
   "metadata": {},
   "outputs": [],
   "source": [
    "path = os.getcwd() + '/data/fraud_challenge_150k.csv'\n",
    "data = pd.read_csv(path)"
   ]
  },
  {
   "cell_type": "markdown",
   "metadata": {},
   "source": [
    "# Exploration"
   ]
  },
  {
   "cell_type": "code",
   "execution_count": 5,
   "metadata": {},
   "outputs": [
    {
     "data": {
      "text/html": [
       "<div>\n",
       "<style scoped>\n",
       "    .dataframe tbody tr th:only-of-type {\n",
       "        vertical-align: middle;\n",
       "    }\n",
       "\n",
       "    .dataframe tbody tr th {\n",
       "        vertical-align: top;\n",
       "    }\n",
       "\n",
       "    .dataframe thead th {\n",
       "        text-align: right;\n",
       "    }\n",
       "</style>\n",
       "<table border=\"1\" class=\"dataframe\">\n",
       "  <thead>\n",
       "    <tr style=\"text-align: right;\">\n",
       "      <th></th>\n",
       "      <th>account_age_days</th>\n",
       "      <th>transaction_amt</th>\n",
       "      <th>transaction_adj_amt</th>\n",
       "      <th>historic_velocity</th>\n",
       "      <th>ip_address</th>\n",
       "      <th>user_agent</th>\n",
       "      <th>email_domain</th>\n",
       "      <th>phone_number</th>\n",
       "      <th>billing_city</th>\n",
       "      <th>billing_postal</th>\n",
       "      <th>billing_state</th>\n",
       "      <th>card_bin</th>\n",
       "      <th>currency</th>\n",
       "      <th>cvv</th>\n",
       "      <th>signature_image</th>\n",
       "      <th>transaction_type</th>\n",
       "      <th>transaction_env</th>\n",
       "      <th>EVENT_TIMESTAMP</th>\n",
       "      <th>applicant_name</th>\n",
       "      <th>billing_address</th>\n",
       "      <th>merchant_id</th>\n",
       "      <th>locale</th>\n",
       "      <th>tranaction_initiate</th>\n",
       "      <th>days_since_last_logon</th>\n",
       "      <th>inital_amount</th>\n",
       "      <th>EVENT_LABEL</th>\n",
       "    </tr>\n",
       "  </thead>\n",
       "  <tbody>\n",
       "    <tr>\n",
       "      <th>0</th>\n",
       "      <td>3371.0</td>\n",
       "      <td>2167.0</td>\n",
       "      <td>56.0</td>\n",
       "      <td>2572.0</td>\n",
       "      <td>154.68.49.124</td>\n",
       "      <td>Opera/9.81.(Windows NT 10.0; ht-HT) Presto/2.9...</td>\n",
       "      <td>perez-garza.com</td>\n",
       "      <td>878-111-5140</td>\n",
       "      <td>Woodsburgh</td>\n",
       "      <td>96336.0</td>\n",
       "      <td>California</td>\n",
       "      <td>40771.0</td>\n",
       "      <td>cad</td>\n",
       "      <td>D</td>\n",
       "      <td>F</td>\n",
       "      <td>U</td>\n",
       "      <td>X</td>\n",
       "      <td>2020-12-29 09:05:51</td>\n",
       "      <td>Linda Wright</td>\n",
       "      <td>4684 Sharon Ranch</td>\n",
       "      <td>066-82-8795</td>\n",
       "      <td>niu_NZ</td>\n",
       "      <td>O</td>\n",
       "      <td>59.0</td>\n",
       "      <td>13646.0</td>\n",
       "      <td>legit</td>\n",
       "    </tr>\n",
       "    <tr>\n",
       "      <th>1</th>\n",
       "      <td>2714.0</td>\n",
       "      <td>2045.0</td>\n",
       "      <td>48.0</td>\n",
       "      <td>4517.0</td>\n",
       "      <td>39.131.125.85</td>\n",
       "      <td>Opera/9.76.(X11; Linux i686; mi-NZ) Presto/2.9...</td>\n",
       "      <td>mcneil-ortega.com</td>\n",
       "      <td>(002)736-0139</td>\n",
       "      <td>West Kevin</td>\n",
       "      <td>78083.0</td>\n",
       "      <td>Florida</td>\n",
       "      <td>24480.0</td>\n",
       "      <td>cad</td>\n",
       "      <td>X</td>\n",
       "      <td>X</td>\n",
       "      <td>H</td>\n",
       "      <td>W</td>\n",
       "      <td>2021-06-22 18:05:06</td>\n",
       "      <td>Terri Rivera</td>\n",
       "      <td>7642 Allison Ramp</td>\n",
       "      <td>669-99-9459</td>\n",
       "      <td>apn_IN</td>\n",
       "      <td>J</td>\n",
       "      <td>0.0</td>\n",
       "      <td>11930.0</td>\n",
       "      <td>legit</td>\n",
       "    </tr>\n",
       "    <tr>\n",
       "      <th>2</th>\n",
       "      <td>6987.0</td>\n",
       "      <td>2892.0</td>\n",
       "      <td>61.0</td>\n",
       "      <td>5007.0</td>\n",
       "      <td>166.245.194.83</td>\n",
       "      <td>Mozilla/5.0 (X11; Linux x86_64; rv:1.9.6.20) G...</td>\n",
       "      <td>davis-calderon.com</td>\n",
       "      <td>(983)585-2863x652</td>\n",
       "      <td>Lorichester</td>\n",
       "      <td>83236.0</td>\n",
       "      <td>Utah</td>\n",
       "      <td>37778.0</td>\n",
       "      <td>cad</td>\n",
       "      <td>X</td>\n",
       "      <td>Q</td>\n",
       "      <td>X</td>\n",
       "      <td>X</td>\n",
       "      <td>2021-05-10 13:48:38</td>\n",
       "      <td>Sarah Gray</td>\n",
       "      <td>4948 Lisa Passage</td>\n",
       "      <td>086-41-1624</td>\n",
       "      <td>dv_MV</td>\n",
       "      <td>T</td>\n",
       "      <td>83.0</td>\n",
       "      <td>7412.0</td>\n",
       "      <td>legit</td>\n",
       "    </tr>\n",
       "    <tr>\n",
       "      <th>3</th>\n",
       "      <td>2712.0</td>\n",
       "      <td>3040.0</td>\n",
       "      <td>28.0</td>\n",
       "      <td>6022.0</td>\n",
       "      <td>100.1.217.216</td>\n",
       "      <td>Mozilla/5.0 (Macintosh; Intel Mac OS X 10 9_3 ...</td>\n",
       "      <td>rose-lee.org</td>\n",
       "      <td>+1-678-897-3420x60738</td>\n",
       "      <td>Stephenmouth</td>\n",
       "      <td>78364.0</td>\n",
       "      <td>Virginia</td>\n",
       "      <td>55790.0</td>\n",
       "      <td>usd</td>\n",
       "      <td>G</td>\n",
       "      <td>G</td>\n",
       "      <td>C</td>\n",
       "      <td>N</td>\n",
       "      <td>2021-03-11 07:36:40</td>\n",
       "      <td>Valerie Jenkins</td>\n",
       "      <td>1616 Little Camp</td>\n",
       "      <td>669-97-4021</td>\n",
       "      <td>byn_ER</td>\n",
       "      <td>M</td>\n",
       "      <td>24.0</td>\n",
       "      <td>4623.0</td>\n",
       "      <td>legit</td>\n",
       "    </tr>\n",
       "    <tr>\n",
       "      <th>4</th>\n",
       "      <td>3598.0</td>\n",
       "      <td>2976.0</td>\n",
       "      <td>66.0</td>\n",
       "      <td>2600.0</td>\n",
       "      <td>113.156.65.245</td>\n",
       "      <td>Mozilla/5.0 (X11; Linux x86_64; rv:1.9.5.20) G...</td>\n",
       "      <td>nash.net</td>\n",
       "      <td>(013)204-1766x92641</td>\n",
       "      <td>New Brianmouth</td>\n",
       "      <td>77499.0</td>\n",
       "      <td>South Carolina</td>\n",
       "      <td>37370.0</td>\n",
       "      <td>cad</td>\n",
       "      <td>X</td>\n",
       "      <td>F</td>\n",
       "      <td>F</td>\n",
       "      <td>G</td>\n",
       "      <td>2021-03-27 06:13:35</td>\n",
       "      <td>Amy Coleman</td>\n",
       "      <td>149 Harris Rapid</td>\n",
       "      <td>088-21-6329</td>\n",
       "      <td>the_NP</td>\n",
       "      <td>K</td>\n",
       "      <td>21.0</td>\n",
       "      <td>1905.0</td>\n",
       "      <td>legit</td>\n",
       "    </tr>\n",
       "  </tbody>\n",
       "</table>\n",
       "</div>"
      ],
      "text/plain": [
       "   account_age_days  transaction_amt  transaction_adj_amt  historic_velocity  \\\n",
       "0            3371.0           2167.0                 56.0             2572.0   \n",
       "1            2714.0           2045.0                 48.0             4517.0   \n",
       "2            6987.0           2892.0                 61.0             5007.0   \n",
       "3            2712.0           3040.0                 28.0             6022.0   \n",
       "4            3598.0           2976.0                 66.0             2600.0   \n",
       "\n",
       "       ip_address                                         user_agent  \\\n",
       "0   154.68.49.124  Opera/9.81.(Windows NT 10.0; ht-HT) Presto/2.9...   \n",
       "1   39.131.125.85  Opera/9.76.(X11; Linux i686; mi-NZ) Presto/2.9...   \n",
       "2  166.245.194.83  Mozilla/5.0 (X11; Linux x86_64; rv:1.9.6.20) G...   \n",
       "3   100.1.217.216  Mozilla/5.0 (Macintosh; Intel Mac OS X 10 9_3 ...   \n",
       "4  113.156.65.245  Mozilla/5.0 (X11; Linux x86_64; rv:1.9.5.20) G...   \n",
       "\n",
       "         email_domain           phone_number    billing_city  billing_postal  \\\n",
       "0     perez-garza.com           878-111-5140      Woodsburgh         96336.0   \n",
       "1   mcneil-ortega.com          (002)736-0139      West Kevin         78083.0   \n",
       "2  davis-calderon.com      (983)585-2863x652     Lorichester         83236.0   \n",
       "3        rose-lee.org  +1-678-897-3420x60738    Stephenmouth         78364.0   \n",
       "4            nash.net    (013)204-1766x92641  New Brianmouth         77499.0   \n",
       "\n",
       "    billing_state  card_bin currency cvv signature_image transaction_type  \\\n",
       "0      California   40771.0      cad   D               F                U   \n",
       "1         Florida   24480.0      cad   X               X                H   \n",
       "2            Utah   37778.0      cad   X               Q                X   \n",
       "3        Virginia   55790.0      usd   G               G                C   \n",
       "4  South Carolina   37370.0      cad   X               F                F   \n",
       "\n",
       "  transaction_env      EVENT_TIMESTAMP   applicant_name    billing_address  \\\n",
       "0               X  2020-12-29 09:05:51     Linda Wright  4684 Sharon Ranch   \n",
       "1               W  2021-06-22 18:05:06     Terri Rivera  7642 Allison Ramp   \n",
       "2               X  2021-05-10 13:48:38       Sarah Gray  4948 Lisa Passage   \n",
       "3               N  2021-03-11 07:36:40  Valerie Jenkins   1616 Little Camp   \n",
       "4               G  2021-03-27 06:13:35      Amy Coleman   149 Harris Rapid   \n",
       "\n",
       "   merchant_id  locale tranaction_initiate  days_since_last_logon  \\\n",
       "0  066-82-8795  niu_NZ                   O                   59.0   \n",
       "1  669-99-9459  apn_IN                   J                    0.0   \n",
       "2  086-41-1624   dv_MV                   T                   83.0   \n",
       "3  669-97-4021  byn_ER                   M                   24.0   \n",
       "4  088-21-6329  the_NP                   K                   21.0   \n",
       "\n",
       "   inital_amount EVENT_LABEL  \n",
       "0        13646.0       legit  \n",
       "1        11930.0       legit  \n",
       "2         7412.0       legit  \n",
       "3         4623.0       legit  \n",
       "4         1905.0       legit  "
      ]
     },
     "execution_count": 5,
     "metadata": {},
     "output_type": "execute_result"
    }
   ],
   "source": [
    "data.head()"
   ]
  },
  {
   "cell_type": "code",
   "execution_count": 6,
   "metadata": {},
   "outputs": [
    {
     "name": "stdout",
     "output_type": "stream",
     "text": [
      "<class 'pandas.core.frame.DataFrame'>\n",
      "RangeIndex: 150000 entries, 0 to 149999\n",
      "Data columns (total 26 columns):\n",
      " #   Column                 Non-Null Count   Dtype  \n",
      "---  ------                 --------------   -----  \n",
      " 0   account_age_days       149892 non-null  float64\n",
      " 1   transaction_amt        149870 non-null  float64\n",
      " 2   transaction_adj_amt    149886 non-null  float64\n",
      " 3   historic_velocity      149885 non-null  float64\n",
      " 4   ip_address             149873 non-null  object \n",
      " 5   user_agent             149887 non-null  object \n",
      " 6   email_domain           149910 non-null  object \n",
      " 7   phone_number           149873 non-null  object \n",
      " 8   billing_city           149884 non-null  object \n",
      " 9   billing_postal         149876 non-null  float64\n",
      " 10  billing_state          149887 non-null  object \n",
      " 11  card_bin               149872 non-null  float64\n",
      " 12  currency               149892 non-null  object \n",
      " 13  cvv                    149877 non-null  object \n",
      " 14  signature_image        149895 non-null  object \n",
      " 15  transaction_type       149884 non-null  object \n",
      " 16  transaction_env        149877 non-null  object \n",
      " 17  EVENT_TIMESTAMP        149888 non-null  object \n",
      " 18  applicant_name         149857 non-null  object \n",
      " 19  billing_address        149866 non-null  object \n",
      " 20  merchant_id            149893 non-null  object \n",
      " 21  locale                 149866 non-null  object \n",
      " 22  tranaction_initiate    149874 non-null  object \n",
      " 23  days_since_last_logon  149864 non-null  float64\n",
      " 24  inital_amount          149872 non-null  float64\n",
      " 25  EVENT_LABEL            150000 non-null  object \n",
      "dtypes: float64(8), object(18)\n",
      "memory usage: 29.8+ MB\n"
     ]
    }
   ],
   "source": [
    "data.info()"
   ]
  },
  {
   "cell_type": "code",
   "execution_count": 7,
   "metadata": {},
   "outputs": [
    {
     "data": {
      "text/plain": [
       "Index(['account_age_days', 'transaction_amt', 'transaction_adj_amt',\n",
       "       'historic_velocity', 'ip_address', 'user_agent', 'email_domain',\n",
       "       'phone_number', 'billing_city', 'billing_postal', 'billing_state',\n",
       "       'card_bin', 'currency', 'cvv', 'signature_image', 'transaction_type',\n",
       "       'transaction_env', 'EVENT_TIMESTAMP', 'applicant_name',\n",
       "       'billing_address', 'merchant_id', 'locale', 'tranaction_initiate',\n",
       "       'days_since_last_logon', 'inital_amount', 'EVENT_LABEL'],\n",
       "      dtype='object')"
      ]
     },
     "execution_count": 7,
     "metadata": {},
     "output_type": "execute_result"
    }
   ],
   "source": [
    "data.columns"
   ]
  },
  {
   "cell_type": "markdown",
   "metadata": {},
   "source": [
    "The max and min values look ok in every column, all of the other statistics look ok too."
   ]
  },
  {
   "cell_type": "code",
   "execution_count": 8,
   "metadata": {},
   "outputs": [
    {
     "data": {
      "text/html": [
       "<div>\n",
       "<style scoped>\n",
       "    .dataframe tbody tr th:only-of-type {\n",
       "        vertical-align: middle;\n",
       "    }\n",
       "\n",
       "    .dataframe tbody tr th {\n",
       "        vertical-align: top;\n",
       "    }\n",
       "\n",
       "    .dataframe thead th {\n",
       "        text-align: right;\n",
       "    }\n",
       "</style>\n",
       "<table border=\"1\" class=\"dataframe\">\n",
       "  <thead>\n",
       "    <tr style=\"text-align: right;\">\n",
       "      <th></th>\n",
       "      <th>account_age_days</th>\n",
       "      <th>transaction_amt</th>\n",
       "      <th>transaction_adj_amt</th>\n",
       "      <th>historic_velocity</th>\n",
       "      <th>billing_postal</th>\n",
       "      <th>card_bin</th>\n",
       "      <th>days_since_last_logon</th>\n",
       "      <th>inital_amount</th>\n",
       "    </tr>\n",
       "  </thead>\n",
       "  <tbody>\n",
       "    <tr>\n",
       "      <th>count</th>\n",
       "      <td>149892.000000</td>\n",
       "      <td>149870.000000</td>\n",
       "      <td>149886.000000</td>\n",
       "      <td>149885.000000</td>\n",
       "      <td>149876.000000</td>\n",
       "      <td>149872.000000</td>\n",
       "      <td>149864.000000</td>\n",
       "      <td>149872.000000</td>\n",
       "    </tr>\n",
       "    <tr>\n",
       "      <th>mean</th>\n",
       "      <td>4645.751995</td>\n",
       "      <td>2521.458944</td>\n",
       "      <td>54.202434</td>\n",
       "      <td>4702.200033</td>\n",
       "      <td>50190.088160</td>\n",
       "      <td>41837.521512</td>\n",
       "      <td>49.866392</td>\n",
       "      <td>7998.025275</td>\n",
       "    </tr>\n",
       "    <tr>\n",
       "      <th>std</th>\n",
       "      <td>1153.816155</td>\n",
       "      <td>604.524161</td>\n",
       "      <td>10.070401</td>\n",
       "      <td>1188.476704</td>\n",
       "      <td>28378.078852</td>\n",
       "      <td>10080.587192</td>\n",
       "      <td>29.204766</td>\n",
       "      <td>4047.071560</td>\n",
       "    </tr>\n",
       "    <tr>\n",
       "      <th>min</th>\n",
       "      <td>1.000000</td>\n",
       "      <td>5.000000</td>\n",
       "      <td>1.000000</td>\n",
       "      <td>50.000000</td>\n",
       "      <td>503.000000</td>\n",
       "      <td>6040.000000</td>\n",
       "      <td>0.000000</td>\n",
       "      <td>1000.000000</td>\n",
       "    </tr>\n",
       "    <tr>\n",
       "      <th>25%</th>\n",
       "      <td>3824.000000</td>\n",
       "      <td>2103.000000</td>\n",
       "      <td>48.000000</td>\n",
       "      <td>3872.000000</td>\n",
       "      <td>25314.000000</td>\n",
       "      <td>35386.000000</td>\n",
       "      <td>24.000000</td>\n",
       "      <td>4487.000000</td>\n",
       "    </tr>\n",
       "    <tr>\n",
       "      <th>50%</th>\n",
       "      <td>4667.000000</td>\n",
       "      <td>2544.000000</td>\n",
       "      <td>55.000000</td>\n",
       "      <td>4730.000000</td>\n",
       "      <td>50117.000000</td>\n",
       "      <td>42086.000000</td>\n",
       "      <td>50.000000</td>\n",
       "      <td>8002.000000</td>\n",
       "    </tr>\n",
       "    <tr>\n",
       "      <th>75%</th>\n",
       "      <td>5476.000000</td>\n",
       "      <td>2951.000000</td>\n",
       "      <td>61.000000</td>\n",
       "      <td>5548.000000</td>\n",
       "      <td>74338.000000</td>\n",
       "      <td>47374.000000</td>\n",
       "      <td>75.000000</td>\n",
       "      <td>11494.000000</td>\n",
       "    </tr>\n",
       "    <tr>\n",
       "      <th>max</th>\n",
       "      <td>9119.000000</td>\n",
       "      <td>4999.000000</td>\n",
       "      <td>99.000000</td>\n",
       "      <td>9999.000000</td>\n",
       "      <td>99950.000000</td>\n",
       "      <td>67639.000000</td>\n",
       "      <td>100.000000</td>\n",
       "      <td>15000.000000</td>\n",
       "    </tr>\n",
       "  </tbody>\n",
       "</table>\n",
       "</div>"
      ],
      "text/plain": [
       "       account_age_days  transaction_amt  transaction_adj_amt  \\\n",
       "count     149892.000000    149870.000000        149886.000000   \n",
       "mean        4645.751995      2521.458944            54.202434   \n",
       "std         1153.816155       604.524161            10.070401   \n",
       "min            1.000000         5.000000             1.000000   \n",
       "25%         3824.000000      2103.000000            48.000000   \n",
       "50%         4667.000000      2544.000000            55.000000   \n",
       "75%         5476.000000      2951.000000            61.000000   \n",
       "max         9119.000000      4999.000000            99.000000   \n",
       "\n",
       "       historic_velocity  billing_postal       card_bin  \\\n",
       "count      149885.000000   149876.000000  149872.000000   \n",
       "mean         4702.200033    50190.088160   41837.521512   \n",
       "std          1188.476704    28378.078852   10080.587192   \n",
       "min            50.000000      503.000000    6040.000000   \n",
       "25%          3872.000000    25314.000000   35386.000000   \n",
       "50%          4730.000000    50117.000000   42086.000000   \n",
       "75%          5548.000000    74338.000000   47374.000000   \n",
       "max          9999.000000    99950.000000   67639.000000   \n",
       "\n",
       "       days_since_last_logon  inital_amount  \n",
       "count          149864.000000  149872.000000  \n",
       "mean               49.866392    7998.025275  \n",
       "std                29.204766    4047.071560  \n",
       "min                 0.000000    1000.000000  \n",
       "25%                24.000000    4487.000000  \n",
       "50%                50.000000    8002.000000  \n",
       "75%                75.000000   11494.000000  \n",
       "max               100.000000   15000.000000  "
      ]
     },
     "execution_count": 8,
     "metadata": {},
     "output_type": "execute_result"
    }
   ],
   "source": [
    "data.describe()"
   ]
  },
  {
   "cell_type": "markdown",
   "metadata": {},
   "source": [
    "Examination of each column\n",
    "Columns that look like ID columns are being delted in next step."
   ]
  },
  {
   "cell_type": "code",
   "execution_count": 9,
   "metadata": {},
   "outputs": [
    {
     "data": {
      "text/plain": [
       "merchant_id\n",
       "353-07-5210    2\n",
       "041-79-6765    2\n",
       "019-07-8261    2\n",
       "536-40-1783    2\n",
       "186-34-1525    2\n",
       "              ..\n",
       "804-11-5257    1\n",
       "472-10-1587    1\n",
       "254-23-4703    1\n",
       "657-88-1513    1\n",
       "319-72-0066    1\n",
       "Name: count, Length: 149883, dtype: int64"
      ]
     },
     "execution_count": 9,
     "metadata": {},
     "output_type": "execute_result"
    }
   ],
   "source": [
    "data['merchant_id'].value_counts()"
   ]
  },
  {
   "cell_type": "markdown",
   "metadata": {},
   "source": [
    "### Deletion of ID colummns."
   ]
  },
  {
   "cell_type": "code",
   "execution_count": 10,
   "metadata": {},
   "outputs": [],
   "source": [
    "df = data.drop(columns=['applicant_name','phone_number','applicant_name',\n",
    "                        'billing_address', 'merchant_id', 'cvv',\n",
    "                        'email_domain', 'EVENT_TIMESTAMP','ip_address',\n",
    "                        'billing_city','billing_postal','billing_state',\n",
    "                        'card_bin', 'locale'])"
   ]
  },
  {
   "cell_type": "markdown",
   "metadata": {},
   "source": [
    "### Target variable examination"
   ]
  },
  {
   "cell_type": "code",
   "execution_count": 11,
   "metadata": {},
   "outputs": [
    {
     "data": {
      "text/plain": [
       "EVENT_LABEL\n",
       "legit    141836\n",
       "fraud      8164\n",
       "Name: count, dtype: int64"
      ]
     },
     "execution_count": 11,
     "metadata": {},
     "output_type": "execute_result"
    }
   ],
   "source": [
    "df['EVENT_LABEL'].value_counts()"
   ]
  },
  {
   "cell_type": "markdown",
   "metadata": {},
   "source": [
    "# IMPORTANT STEP"
   ]
  },
  {
   "cell_type": "code",
   "execution_count": 12,
   "metadata": {},
   "outputs": [],
   "source": [
    "df['EVENT_LABEL'] = [0 if x == 'legit' else 1 for x in df['EVENT_LABEL']]"
   ]
  },
  {
   "cell_type": "code",
   "execution_count": 13,
   "metadata": {},
   "outputs": [
    {
     "data": {
      "image/png": "[encoded data removed]",
      "text/plain": [
       "<Figure size 640x480 with 1 Axes>"
      ]
     },
     "metadata": {},
     "output_type": "display_data"
    }
   ],
   "source": [
    "sns.countplot(data, x='EVENT_LABEL')\n",
    "plt.title('0 - Legit | 1 - Fraud - high imbalance')\n",
    "plt.xlabel('Class')\n",
    "plt.ylabel('Count')\n",
    "plt.show()"
   ]
  },
  {
   "cell_type": "code",
   "execution_count": 14,
   "metadata": {},
   "outputs": [
    {
     "name": "stdout",
     "output_type": "stream",
     "text": [
      "There is 5.44% of fraud transactions, which is 8164 transactions.\n",
      "There is 94.56% of legit transactions, which is 141836 transactions.\n"
     ]
    }
   ],
   "source": [
    "all_rows = df['EVENT_LABEL'].count()\n",
    "fraud_rows = df['EVENT_LABEL'].sum()\n",
    "legit_rows = all_rows - fraud_rows\n",
    "print(f'There is {round((fraud_rows/all_rows)*100, 2)}% of fraud transactions, which is {fraud_rows} transactions.')\n",
    "print(f'There is {round((legit_rows/all_rows)*100, 2)}% of legit transactions, which is {legit_rows} transactions.')"
   ]
  },
  {
   "cell_type": "markdown",
   "metadata": {},
   "source": [
    "#### Outliers identification"
   ]
  },
  {
   "cell_type": "code",
   "execution_count": 15,
   "metadata": {},
   "outputs": [
    {
     "data": {
      "image/png": "[encoded data removed]",
      "text/plain": [
       "<Figure size 1500x500 with 1 Axes>"
      ]
     },
     "metadata": {},
     "output_type": "display_data"
    }
   ],
   "source": [
    "plt.figure().set_size_inches(15,5)\n",
    "sns.boxplot(df)\n",
    "plt.tight_layout() \n",
    "plt.show()"
   ]
  },
  {
   "cell_type": "code",
   "execution_count": 16,
   "metadata": {},
   "outputs": [
    {
     "data": {
      "image/png": "[encoded data removed]",
      "text/plain": [
       "<Figure size 1500x500 with 1 Axes>"
      ]
     },
     "metadata": {},
     "output_type": "display_data"
    }
   ],
   "source": [
    "df_pom = df[['account_age_days', 'transaction_amt', 'transaction_adj_amt', 'historic_velocity']]\n",
    "plt.figure().set_size_inches(15,5)\n",
    "sns.boxplot(data = df_pom)\n",
    "plt.tight_layout() \n",
    "plt.show()"
   ]
  },
  {
   "cell_type": "markdown",
   "metadata": {},
   "source": [
    "#### Closer look at outliers."
   ]
  },
  {
   "cell_type": "code",
   "execution_count": 17,
   "metadata": {},
   "outputs": [
    {
     "data": {
      "text/plain": [
       "19948     9999.0\n",
       "123899    8975.0\n",
       "54531     8875.0\n",
       "1979      8736.0\n",
       "91495     8735.0\n",
       "           ...  \n",
       "139613       NaN\n",
       "140716       NaN\n",
       "146280       NaN\n",
       "149446       NaN\n",
       "149906       NaN\n",
       "Name: historic_velocity, Length: 150000, dtype: float64"
      ]
     },
     "execution_count": 17,
     "metadata": {},
     "output_type": "execute_result"
    }
   ],
   "source": [
    "df['historic_velocity'].sort_values(ascending=False)"
   ]
  },
  {
   "cell_type": "code",
   "execution_count": 52,
   "metadata": {},
   "outputs": [
    {
     "data": {
      "text/html": [
       "<div>\n",
       "<style scoped>\n",
       "    .dataframe tbody tr th:only-of-type {\n",
       "        vertical-align: middle;\n",
       "    }\n",
       "\n",
       "    .dataframe tbody tr th {\n",
       "        vertical-align: top;\n",
       "    }\n",
       "\n",
       "    .dataframe thead th {\n",
       "        text-align: right;\n",
       "    }\n",
       "</style>\n",
       "<table border=\"1\" class=\"dataframe\">\n",
       "  <thead>\n",
       "    <tr style=\"text-align: right;\">\n",
       "      <th></th>\n",
       "      <th>historic_velocity</th>\n",
       "      <th>count</th>\n",
       "    </tr>\n",
       "  </thead>\n",
       "  <tbody>\n",
       "    <tr>\n",
       "      <th>6606</th>\n",
       "      <td>9999.0</td>\n",
       "      <td>1</td>\n",
       "    </tr>\n",
       "  </tbody>\n",
       "</table>\n",
       "</div>"
      ],
      "text/plain": [
       "      historic_velocity  count\n",
       "6606             9999.0      1"
      ]
     },
     "execution_count": 52,
     "metadata": {},
     "output_type": "execute_result"
    }
   ],
   "source": [
    "test = pd.DataFrame(df['historic_velocity'].value_counts()).reset_index()\n",
    "test.sort_values(ascending=False, by='historic_velocity').head(20)\n",
    "test[test['historic_velocity']>9000]"
   ]
  },
  {
   "cell_type": "code",
   "execution_count": null,
   "metadata": {},
   "outputs": [],
   "source": []
  },
  {
   "cell_type": "markdown",
   "metadata": {},
   "source": [
    "#### Distribution of variables\n",
    "Most of them has normal distribution, besides days since last logon and initial amount. They have uniform distribution."
   ]
  },
  {
   "cell_type": "code",
   "execution_count": 19,
   "metadata": {},
   "outputs": [
    {
     "name": "stderr",
     "output_type": "stream",
     "text": [
      "/Users/jakubkozlowski/anaconda3/envs/data_mining/lib/python3.12/site-packages/seaborn/_oldcore.py:1119: FutureWarning: use_inf_as_na option is deprecated and will be removed in a future version. Convert inf values to NaN before operating instead.\n",
      "  with pd.option_context('mode.use_inf_as_na', True):\n",
      "/Users/jakubkozlowski/anaconda3/envs/data_mining/lib/python3.12/site-packages/seaborn/_oldcore.py:1119: FutureWarning: use_inf_as_na option is deprecated and will be removed in a future version. Convert inf values to NaN before operating instead.\n",
      "  with pd.option_context('mode.use_inf_as_na', True):\n",
      "/Users/jakubkozlowski/anaconda3/envs/data_mining/lib/python3.12/site-packages/seaborn/_oldcore.py:1119: FutureWarning: use_inf_as_na option is deprecated and will be removed in a future version. Convert inf values to NaN before operating instead.\n",
      "  with pd.option_context('mode.use_inf_as_na', True):\n",
      "/Users/jakubkozlowski/anaconda3/envs/data_mining/lib/python3.12/site-packages/seaborn/_oldcore.py:1119: FutureWarning: use_inf_as_na option is deprecated and will be removed in a future version. Convert inf values to NaN before operating instead.\n",
      "  with pd.option_context('mode.use_inf_as_na', True):\n",
      "/Users/jakubkozlowski/anaconda3/envs/data_mining/lib/python3.12/site-packages/seaborn/_oldcore.py:1119: FutureWarning: use_inf_as_na option is deprecated and will be removed in a future version. Convert inf values to NaN before operating instead.\n",
      "  with pd.option_context('mode.use_inf_as_na', True):\n",
      "/Users/jakubkozlowski/anaconda3/envs/data_mining/lib/python3.12/site-packages/seaborn/_oldcore.py:1119: FutureWarning: use_inf_as_na option is deprecated and will be removed in a future version. Convert inf values to NaN before operating instead.\n",
      "  with pd.option_context('mode.use_inf_as_na', True):\n"
     ]
    },
    {
     "data": {
      "image/png": "[encoded data removed]",
      "text/plain": [
       "<Figure size 1800x1000 with 6 Axes>"
      ]
     },
     "metadata": {},
     "output_type": "display_data"
    }
   ],
   "source": [
    "fig, axs = plt.subplots(3, 2, figsize=(18, 10))\n",
    "\n",
    "sns.histplot(df['account_age_days'], ax=axs[0,0], color='blue')\n",
    "sns.histplot(df['transaction_amt'], kde=True,ax=axs[0,1], color='red')\n",
    "sns.histplot(df['transaction_adj_amt'], kde=True,ax=axs[1,0], color='yellow')\n",
    "sns.histplot(df['historic_velocity'], kde=True,ax=axs[1,1], color='green')\n",
    "sns.histplot(df['days_since_last_logon'],ax=axs[2,0], color='cyan')\n",
    "sns.histplot(df['inital_amount'], kde=True,ax=axs[2,1], color='purple')\n",
    "\n",
    "\n",
    "\n",
    "plt.tight_layout()\n",
    "plt.show()"
   ]
  },
  {
   "cell_type": "markdown",
   "metadata": {},
   "source": [
    "#### Identifying rows, that has NA values somewhere and also if they were classified as fraud with NA."
   ]
  },
  {
   "cell_type": "markdown",
   "metadata": {},
   "source": [
    "Perecent of missing values in both groups, fraud and legit are really low, so it is sensible to do data imputation in some cases, because bias introduced to data shouldn't be very high."
   ]
  },
  {
   "cell_type": "code",
   "execution_count": 20,
   "metadata": {},
   "outputs": [
    {
     "name": "stdout",
     "output_type": "stream",
     "text": [
      "account_age_days         108\n",
      "transaction_amt          130\n",
      "transaction_adj_amt      114\n",
      "historic_velocity        115\n",
      "user_agent               113\n",
      "currency                 108\n",
      "signature_image          105\n",
      "transaction_type         116\n",
      "transaction_env          123\n",
      "tranaction_initiate      126\n",
      "days_since_last_logon    136\n",
      "inital_amount            128\n",
      "EVENT_LABEL                0\n",
      "dtype: int64\n",
      "(1422, 13)\n",
      "Percent of missing data: 0.95%\n"
     ]
    }
   ],
   "source": [
    "df.isna().sum()\n",
    "df_nas = df[df.isna().any(axis=1)]\n",
    "print(df_nas.isna().sum())\n",
    "print(df_nas.shape)\n",
    "print(f'Percent of missing data: {round(100*df_nas.shape[0]/df.shape[0],2)}%')"
   ]
  },
  {
   "cell_type": "code",
   "execution_count": 21,
   "metadata": {},
   "outputs": [
    {
     "name": "stdout",
     "output_type": "stream",
     "text": [
      "account_age_days          6\n",
      "transaction_amt           8\n",
      "transaction_adj_amt      10\n",
      "historic_velocity         3\n",
      "user_agent                7\n",
      "currency                  7\n",
      "signature_image           7\n",
      "transaction_type          5\n",
      "transaction_env           2\n",
      "tranaction_initiate       4\n",
      "days_since_last_logon     9\n",
      "inital_amount            10\n",
      "EVENT_LABEL               0\n",
      "dtype: int64\n",
      "(78, 13)\n",
      "Percent of missing data in fraud group: 0.96%\n"
     ]
    }
   ],
   "source": [
    "fraud_amt = df[df['EVENT_LABEL']==1]\n",
    "missing_rows = df[df.isna().any(axis=1)]\n",
    "missing_fraud = missing_rows[missing_rows['EVENT_LABEL'] == 1]\n",
    "print(missing_fraud.isna().sum())\n",
    "print(missing_fraud.shape)\n",
    "print(f'Percent of missing data in fraud group: {round(100*missing_fraud.shape[0]/fraud_amt.shape[0],2)}%')"
   ]
  },
  {
   "cell_type": "markdown",
   "metadata": {},
   "source": [
    "Change of categorical variables missing data to 'Unknown' lables to reduce amount of rows reduced in next step (deletion of rows with missing values in them.)"
   ]
  },
  {
   "cell_type": "code",
   "execution_count": 22,
   "metadata": {},
   "outputs": [],
   "source": [
    "df['user_agent'] = df['user_agent'].fillna(\"Unknown\")\n",
    "df['currency'] = df['currency'].fillna(\"UNK\")\n",
    "df['signature_image'] = df['signature_image'].fillna(\"UN\")\n",
    "df['transaction_type'] = df['transaction_type'].fillna(\"UN\")\n",
    "df['transaction_env'] = df['transaction_env'].fillna(\"UN\")\n",
    "df['tranaction_initiate'] = df['tranaction_initiate'].fillna(\"UN\")\n"
   ]
  },
  {
   "cell_type": "code",
   "execution_count": 23,
   "metadata": {},
   "outputs": [
    {
     "name": "stdout",
     "output_type": "stream",
     "text": [
      "(731, 13)\n",
      "Percent of missing data: 0.4873333333333334%\n"
     ]
    }
   ],
   "source": [
    "sh_check = df[df.isna().any(axis=1)]\n",
    "print(sh_check.shape)\n",
    "print(f'Percent of missing data: {sh_check.shape[0]/df.shape[0]*100}%')"
   ]
  },
  {
   "cell_type": "code",
   "execution_count": 24,
   "metadata": {},
   "outputs": [],
   "source": [
    "df = df.dropna()"
   ]
  },
  {
   "cell_type": "code",
   "execution_count": 25,
   "metadata": {},
   "outputs": [
    {
     "data": {
      "text/html": [
       "<div>\n",
       "<style scoped>\n",
       "    .dataframe tbody tr th:only-of-type {\n",
       "        vertical-align: middle;\n",
       "    }\n",
       "\n",
       "    .dataframe tbody tr th {\n",
       "        vertical-align: top;\n",
       "    }\n",
       "\n",
       "    .dataframe thead th {\n",
       "        text-align: right;\n",
       "    }\n",
       "</style>\n",
       "<table border=\"1\" class=\"dataframe\">\n",
       "  <thead>\n",
       "    <tr style=\"text-align: right;\">\n",
       "      <th></th>\n",
       "      <th>account_age_days</th>\n",
       "      <th>transaction_amt</th>\n",
       "      <th>transaction_adj_amt</th>\n",
       "      <th>historic_velocity</th>\n",
       "      <th>user_agent</th>\n",
       "      <th>currency</th>\n",
       "      <th>signature_image</th>\n",
       "      <th>transaction_type</th>\n",
       "      <th>transaction_env</th>\n",
       "      <th>tranaction_initiate</th>\n",
       "      <th>days_since_last_logon</th>\n",
       "      <th>inital_amount</th>\n",
       "      <th>EVENT_LABEL</th>\n",
       "    </tr>\n",
       "  </thead>\n",
       "  <tbody>\n",
       "    <tr>\n",
       "      <th>0</th>\n",
       "      <td>3371.0</td>\n",
       "      <td>2167.0</td>\n",
       "      <td>56.0</td>\n",
       "      <td>2572.0</td>\n",
       "      <td>Opera/9.81.(Windows NT 10.0; ht-HT) Presto/2.9...</td>\n",
       "      <td>cad</td>\n",
       "      <td>F</td>\n",
       "      <td>U</td>\n",
       "      <td>X</td>\n",
       "      <td>O</td>\n",
       "      <td>59.0</td>\n",
       "      <td>13646.0</td>\n",
       "      <td>0</td>\n",
       "    </tr>\n",
       "    <tr>\n",
       "      <th>1</th>\n",
       "      <td>2714.0</td>\n",
       "      <td>2045.0</td>\n",
       "      <td>48.0</td>\n",
       "      <td>4517.0</td>\n",
       "      <td>Opera/9.76.(X11; Linux i686; mi-NZ) Presto/2.9...</td>\n",
       "      <td>cad</td>\n",
       "      <td>X</td>\n",
       "      <td>H</td>\n",
       "      <td>W</td>\n",
       "      <td>J</td>\n",
       "      <td>0.0</td>\n",
       "      <td>11930.0</td>\n",
       "      <td>0</td>\n",
       "    </tr>\n",
       "    <tr>\n",
       "      <th>2</th>\n",
       "      <td>6987.0</td>\n",
       "      <td>2892.0</td>\n",
       "      <td>61.0</td>\n",
       "      <td>5007.0</td>\n",
       "      <td>Mozilla/5.0 (X11; Linux x86_64; rv:1.9.6.20) G...</td>\n",
       "      <td>cad</td>\n",
       "      <td>Q</td>\n",
       "      <td>X</td>\n",
       "      <td>X</td>\n",
       "      <td>T</td>\n",
       "      <td>83.0</td>\n",
       "      <td>7412.0</td>\n",
       "      <td>0</td>\n",
       "    </tr>\n",
       "    <tr>\n",
       "      <th>3</th>\n",
       "      <td>2712.0</td>\n",
       "      <td>3040.0</td>\n",
       "      <td>28.0</td>\n",
       "      <td>6022.0</td>\n",
       "      <td>Mozilla/5.0 (Macintosh; Intel Mac OS X 10 9_3 ...</td>\n",
       "      <td>usd</td>\n",
       "      <td>G</td>\n",
       "      <td>C</td>\n",
       "      <td>N</td>\n",
       "      <td>M</td>\n",
       "      <td>24.0</td>\n",
       "      <td>4623.0</td>\n",
       "      <td>0</td>\n",
       "    </tr>\n",
       "    <tr>\n",
       "      <th>4</th>\n",
       "      <td>3598.0</td>\n",
       "      <td>2976.0</td>\n",
       "      <td>66.0</td>\n",
       "      <td>2600.0</td>\n",
       "      <td>Mozilla/5.0 (X11; Linux x86_64; rv:1.9.5.20) G...</td>\n",
       "      <td>cad</td>\n",
       "      <td>F</td>\n",
       "      <td>F</td>\n",
       "      <td>G</td>\n",
       "      <td>K</td>\n",
       "      <td>21.0</td>\n",
       "      <td>1905.0</td>\n",
       "      <td>0</td>\n",
       "    </tr>\n",
       "  </tbody>\n",
       "</table>\n",
       "</div>"
      ],
      "text/plain": [
       "   account_age_days  transaction_amt  transaction_adj_amt  historic_velocity  \\\n",
       "0            3371.0           2167.0                 56.0             2572.0   \n",
       "1            2714.0           2045.0                 48.0             4517.0   \n",
       "2            6987.0           2892.0                 61.0             5007.0   \n",
       "3            2712.0           3040.0                 28.0             6022.0   \n",
       "4            3598.0           2976.0                 66.0             2600.0   \n",
       "\n",
       "                                          user_agent currency signature_image  \\\n",
       "0  Opera/9.81.(Windows NT 10.0; ht-HT) Presto/2.9...      cad               F   \n",
       "1  Opera/9.76.(X11; Linux i686; mi-NZ) Presto/2.9...      cad               X   \n",
       "2  Mozilla/5.0 (X11; Linux x86_64; rv:1.9.6.20) G...      cad               Q   \n",
       "3  Mozilla/5.0 (Macintosh; Intel Mac OS X 10 9_3 ...      usd               G   \n",
       "4  Mozilla/5.0 (X11; Linux x86_64; rv:1.9.5.20) G...      cad               F   \n",
       "\n",
       "  transaction_type transaction_env tranaction_initiate  days_since_last_logon  \\\n",
       "0                U               X                   O                   59.0   \n",
       "1                H               W                   J                    0.0   \n",
       "2                X               X                   T                   83.0   \n",
       "3                C               N                   M                   24.0   \n",
       "4                F               G                   K                   21.0   \n",
       "\n",
       "   inital_amount  EVENT_LABEL  \n",
       "0        13646.0            0  \n",
       "1        11930.0            0  \n",
       "2         7412.0            0  \n",
       "3         4623.0            0  \n",
       "4         1905.0            0  "
      ]
     },
     "execution_count": 25,
     "metadata": {},
     "output_type": "execute_result"
    }
   ],
   "source": [
    "df.head()"
   ]
  },
  {
   "cell_type": "markdown",
   "metadata": {},
   "source": [
    "#### Browser and system extraction"
   ]
  },
  {
   "cell_type": "code",
   "execution_count": 26,
   "metadata": {},
   "outputs": [],
   "source": [
    "df['browser']=df['user_agent'].str.split('/').str[0]\n",
    "df['os']=df['user_agent'].str.split('/').str[1].str.split('(').str[1]\n"
   ]
  },
  {
   "cell_type": "code",
   "execution_count": 27,
   "metadata": {},
   "outputs": [],
   "source": [
    "df['os'] = df['os'].astype(str)"
   ]
  },
  {
   "cell_type": "code",
   "execution_count": 28,
   "metadata": {},
   "outputs": [],
   "source": [
    "def os_selection(row):\n",
    "    if 'Windows' in row['os']:\n",
    "         return 'Windows'\n",
    "    elif 'Linux' in row['os']:\n",
    "        return 'Linux'\n",
    "    elif 'Macintosh' in row['os']:\n",
    "        return 'Macintosh'\n",
    "    elif 'iPhone' in row['os']:\n",
    "        return 'iPhone'\n",
    "    elif 'iPod' in row['os']:\n",
    "        return 'iPod'\n",
    "    elif 'Android' in row['os']:\n",
    "        return 'Android'\n",
    "    elif 'iPad' in row['os']:\n",
    "        return 'iPad'\n",
    "    else:\n",
    "        return 'Other'"
   ]
  },
  {
   "cell_type": "code",
   "execution_count": 29,
   "metadata": {},
   "outputs": [],
   "source": [
    "df['os_test'] = df.apply(os_selection, axis=1)"
   ]
  },
  {
   "cell_type": "code",
   "execution_count": 30,
   "metadata": {},
   "outputs": [],
   "source": [
    "df = df.drop(columns=['os','user_agent'])"
   ]
  },
  {
   "cell_type": "code",
   "execution_count": 31,
   "metadata": {},
   "outputs": [],
   "source": [
    "df.rename(columns={'os_test':'os'}, inplace=True)"
   ]
  },
  {
   "cell_type": "markdown",
   "metadata": {},
   "source": [
    "account_age_days\n",
    "days_since_last_logon\n",
    "locale\n"
   ]
  },
  {
   "cell_type": "markdown",
   "metadata": {},
   "source": [
    "- acc_age = 1 - ponizej 1000 dni\n",
    "- acc_age = 8 - ponizej 8000 dni\n",
    "- acc_age = 9 - powyzej 8000 dni"
   ]
  },
  {
   "cell_type": "code",
   "execution_count": 32,
   "metadata": {},
   "outputs": [],
   "source": [
    "df['acc_age'] = pd.cut(x=df['account_age_days'], \n",
    "                       bins = [0, 1000, 2000, 3000, 4000, 5000, 6000, 7000, 8000, 9200],\n",
    "                       labels=['1', '2', '3', '4', '5', '6', '7', '8', '9'])\n",
    "df['d_last_logon'] = pd.cut(x=df['days_since_last_logon'],\n",
    "                            bins=[0, 20, 40, 60, 80, 100],\n",
    "                            labels=['1', '2', '3', '4', '5'],\n",
    "                            include_lowest=True)"
   ]
  },
  {
   "cell_type": "code",
   "execution_count": 33,
   "metadata": {},
   "outputs": [
    {
     "name": "stdout",
     "output_type": "stream",
     "text": [
      "Column 'account_age_days':\n",
      "Integers: 0\n",
      "Floats: 6474\n",
      "Strings: 0\n",
      "\n",
      "Column 'transaction_amt':\n",
      "Integers: 0\n",
      "Floats: 3691\n",
      "Strings: 0\n",
      "\n",
      "Column 'transaction_adj_amt':\n",
      "Integers: 0\n",
      "Floats: 92\n",
      "Strings: 0\n",
      "\n",
      "Column 'historic_velocity':\n",
      "Integers: 0\n",
      "Floats: 6756\n",
      "Strings: 0\n",
      "\n",
      "Column 'currency':\n",
      "Integers: 0\n",
      "Floats: 0\n",
      "Strings: 4\n",
      "\n",
      "Column 'signature_image':\n",
      "Integers: 0\n",
      "Floats: 0\n",
      "Strings: 27\n",
      "\n",
      "Column 'transaction_type':\n",
      "Integers: 0\n",
      "Floats: 0\n",
      "Strings: 27\n",
      "\n",
      "Column 'transaction_env':\n",
      "Integers: 0\n",
      "Floats: 0\n",
      "Strings: 27\n",
      "\n",
      "Column 'tranaction_initiate':\n",
      "Integers: 0\n",
      "Floats: 0\n",
      "Strings: 27\n",
      "\n",
      "Column 'days_since_last_logon':\n",
      "Integers: 0\n",
      "Floats: 101\n",
      "Strings: 0\n",
      "\n",
      "Column 'inital_amount':\n",
      "Integers: 0\n",
      "Floats: 14001\n",
      "Strings: 0\n",
      "\n",
      "Column 'EVENT_LABEL':\n",
      "Integers: 0\n",
      "Floats: 0\n",
      "Strings: 0\n",
      "\n",
      "Column 'browser':\n",
      "Integers: 0\n",
      "Floats: 0\n",
      "Strings: 3\n",
      "\n",
      "Column 'os':\n",
      "Integers: 0\n",
      "Floats: 0\n",
      "Strings: 7\n",
      "\n",
      "Column 'acc_age':\n",
      "Integers: 0\n",
      "Floats: 0\n",
      "Strings: 9\n",
      "\n",
      "Column 'd_last_logon':\n",
      "Integers: 0\n",
      "Floats: 0\n",
      "Strings: 5\n",
      "\n"
     ]
    }
   ],
   "source": [
    "type_counts = {col: {'int': 0, 'float': 0, 'str': 0} for col in df.columns}\n",
    "# Iterate over each column\n",
    "for col in df.columns:\n",
    "    # Iterate over unique values in the column\n",
    "    for value in df[col].unique():\n",
    "        # Check the data type of each value and update counts accordingly\n",
    "        if isinstance(value, int):\n",
    "            type_counts[col]['int'] += 1\n",
    "        elif isinstance(value, float):\n",
    "            type_counts[col]['float'] += 1\n",
    "        elif isinstance(value, str):\n",
    "            type_counts[col]['str'] += 1\n",
    "\n",
    "# Print the counts for each column\n",
    "for col, counts in type_counts.items():\n",
    "    print(f\"Column '{col}':\")\n",
    "    print(\"Integers:\", counts['int'])\n",
    "    print(\"Floats:\", counts['float'])\n",
    "    print(\"Strings:\", counts['str'])\n",
    "    print()"
   ]
  },
  {
   "cell_type": "code",
   "execution_count": 34,
   "metadata": {},
   "outputs": [
    {
     "data": {
      "text/html": [
       "<div>\n",
       "<style scoped>\n",
       "    .dataframe tbody tr th:only-of-type {\n",
       "        vertical-align: middle;\n",
       "    }\n",
       "\n",
       "    .dataframe tbody tr th {\n",
       "        vertical-align: top;\n",
       "    }\n",
       "\n",
       "    .dataframe thead th {\n",
       "        text-align: right;\n",
       "    }\n",
       "</style>\n",
       "<table border=\"1\" class=\"dataframe\">\n",
       "  <thead>\n",
       "    <tr style=\"text-align: right;\">\n",
       "      <th></th>\n",
       "      <th>account_age_days</th>\n",
       "      <th>transaction_amt</th>\n",
       "      <th>transaction_adj_amt</th>\n",
       "      <th>historic_velocity</th>\n",
       "      <th>currency</th>\n",
       "      <th>signature_image</th>\n",
       "      <th>transaction_type</th>\n",
       "      <th>transaction_env</th>\n",
       "      <th>tranaction_initiate</th>\n",
       "      <th>days_since_last_logon</th>\n",
       "      <th>inital_amount</th>\n",
       "      <th>EVENT_LABEL</th>\n",
       "      <th>browser</th>\n",
       "      <th>os</th>\n",
       "      <th>acc_age</th>\n",
       "      <th>d_last_logon</th>\n",
       "    </tr>\n",
       "  </thead>\n",
       "  <tbody>\n",
       "    <tr>\n",
       "      <th>0</th>\n",
       "      <td>3371.0</td>\n",
       "      <td>2167.0</td>\n",
       "      <td>56.0</td>\n",
       "      <td>2572.0</td>\n",
       "      <td>cad</td>\n",
       "      <td>F</td>\n",
       "      <td>U</td>\n",
       "      <td>X</td>\n",
       "      <td>O</td>\n",
       "      <td>59.0</td>\n",
       "      <td>13646.0</td>\n",
       "      <td>0</td>\n",
       "      <td>Opera</td>\n",
       "      <td>Windows</td>\n",
       "      <td>4</td>\n",
       "      <td>3</td>\n",
       "    </tr>\n",
       "    <tr>\n",
       "      <th>1</th>\n",
       "      <td>2714.0</td>\n",
       "      <td>2045.0</td>\n",
       "      <td>48.0</td>\n",
       "      <td>4517.0</td>\n",
       "      <td>cad</td>\n",
       "      <td>X</td>\n",
       "      <td>H</td>\n",
       "      <td>W</td>\n",
       "      <td>J</td>\n",
       "      <td>0.0</td>\n",
       "      <td>11930.0</td>\n",
       "      <td>0</td>\n",
       "      <td>Opera</td>\n",
       "      <td>Linux</td>\n",
       "      <td>3</td>\n",
       "      <td>1</td>\n",
       "    </tr>\n",
       "    <tr>\n",
       "      <th>2</th>\n",
       "      <td>6987.0</td>\n",
       "      <td>2892.0</td>\n",
       "      <td>61.0</td>\n",
       "      <td>5007.0</td>\n",
       "      <td>cad</td>\n",
       "      <td>Q</td>\n",
       "      <td>X</td>\n",
       "      <td>X</td>\n",
       "      <td>T</td>\n",
       "      <td>83.0</td>\n",
       "      <td>7412.0</td>\n",
       "      <td>0</td>\n",
       "      <td>Mozilla</td>\n",
       "      <td>Linux</td>\n",
       "      <td>7</td>\n",
       "      <td>5</td>\n",
       "    </tr>\n",
       "    <tr>\n",
       "      <th>3</th>\n",
       "      <td>2712.0</td>\n",
       "      <td>3040.0</td>\n",
       "      <td>28.0</td>\n",
       "      <td>6022.0</td>\n",
       "      <td>usd</td>\n",
       "      <td>G</td>\n",
       "      <td>C</td>\n",
       "      <td>N</td>\n",
       "      <td>M</td>\n",
       "      <td>24.0</td>\n",
       "      <td>4623.0</td>\n",
       "      <td>0</td>\n",
       "      <td>Mozilla</td>\n",
       "      <td>Macintosh</td>\n",
       "      <td>3</td>\n",
       "      <td>2</td>\n",
       "    </tr>\n",
       "    <tr>\n",
       "      <th>4</th>\n",
       "      <td>3598.0</td>\n",
       "      <td>2976.0</td>\n",
       "      <td>66.0</td>\n",
       "      <td>2600.0</td>\n",
       "      <td>cad</td>\n",
       "      <td>F</td>\n",
       "      <td>F</td>\n",
       "      <td>G</td>\n",
       "      <td>K</td>\n",
       "      <td>21.0</td>\n",
       "      <td>1905.0</td>\n",
       "      <td>0</td>\n",
       "      <td>Mozilla</td>\n",
       "      <td>Linux</td>\n",
       "      <td>4</td>\n",
       "      <td>2</td>\n",
       "    </tr>\n",
       "  </tbody>\n",
       "</table>\n",
       "</div>"
      ],
      "text/plain": [
       "   account_age_days  transaction_amt  transaction_adj_amt  historic_velocity  \\\n",
       "0            3371.0           2167.0                 56.0             2572.0   \n",
       "1            2714.0           2045.0                 48.0             4517.0   \n",
       "2            6987.0           2892.0                 61.0             5007.0   \n",
       "3            2712.0           3040.0                 28.0             6022.0   \n",
       "4            3598.0           2976.0                 66.0             2600.0   \n",
       "\n",
       "  currency signature_image transaction_type transaction_env  \\\n",
       "0      cad               F                U               X   \n",
       "1      cad               X                H               W   \n",
       "2      cad               Q                X               X   \n",
       "3      usd               G                C               N   \n",
       "4      cad               F                F               G   \n",
       "\n",
       "  tranaction_initiate  days_since_last_logon  inital_amount  EVENT_LABEL  \\\n",
       "0                   O                   59.0        13646.0            0   \n",
       "1                   J                    0.0        11930.0            0   \n",
       "2                   T                   83.0         7412.0            0   \n",
       "3                   M                   24.0         4623.0            0   \n",
       "4                   K                   21.0         1905.0            0   \n",
       "\n",
       "   browser         os acc_age d_last_logon  \n",
       "0    Opera    Windows       4            3  \n",
       "1    Opera      Linux       3            1  \n",
       "2  Mozilla      Linux       7            5  \n",
       "3  Mozilla  Macintosh       3            2  \n",
       "4  Mozilla      Linux       4            2  "
      ]
     },
     "execution_count": 34,
     "metadata": {},
     "output_type": "execute_result"
    }
   ],
   "source": [
    "df.head()"
   ]
  }
 ],
 "metadata": {
  "kernelspec": {
   "display_name": "env3114",
   "language": "python",
   "name": "python3"
  },
  "language_info": {
   "codemirror_mode": {
    "name": "ipython",
    "version": 3
   },
   "file_extension": ".py",
   "mimetype": "text/x-python",
   "name": "python",
   "nbconvert_exporter": "python",
   "pygments_lexer": "ipython3",
   "version": "3.12.2"
  }
 },
 "nbformat": 4,
 "nbformat_minor": 2
}
