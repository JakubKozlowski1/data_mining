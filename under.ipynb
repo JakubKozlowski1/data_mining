{
 "cells": [
  {
   "cell_type": "code",
   "execution_count": 5,
   "metadata": {},
   "outputs": [],
   "source": [
    "import pandas as pd\n",
    "import numpy as np \n",
    "import matplotlib.pyplot as plt\n",
    "import seaborn as sns\n",
    "import os"
   ]
  },
  {
   "cell_type": "code",
   "execution_count": 21,
   "metadata": {},
   "outputs": [],
   "source": [
    "from scipy.stats import chi2_contingency"
   ]
  },
  {
   "cell_type": "code",
   "execution_count": 6,
   "metadata": {},
   "outputs": [],
   "source": [
    "path = os.getcwd() + '/data/clean_data.csv'\n",
    "df = pd.read_csv(path)"
   ]
  },
  {
   "cell_type": "code",
   "execution_count": 7,
   "metadata": {},
   "outputs": [],
   "source": [
    "fraud_df = df[df['EVENT_LABEL']==1]\n",
    "legit_df = df[df['EVENT_LABEL']==0][:8112]\n",
    "under_df = pd.concat([fraud_df, legit_df])\n",
    "under_df = under_df.sample(frac=1)"
   ]
  },
  {
   "cell_type": "code",
   "execution_count": 8,
   "metadata": {},
   "outputs": [
    {
     "name": "stdout",
     "output_type": "stream",
     "text": [
      "EVENT_LABEL\n",
      "1    0.5\n",
      "0    0.5\n",
      "Name: count, dtype: float64\n"
     ]
    },
    {
     "data": {
      "image/png": "[encoded data removed]",
      "text/plain": [
       "<Figure size 640x480 with 1 Axes>"
      ]
     },
     "metadata": {},
     "output_type": "display_data"
    }
   ],
   "source": [
    "print(under_df['EVENT_LABEL'].value_counts()/len(under_df))\n",
    "sns.countplot(under_df, x='EVENT_LABEL')\n",
    "plt.title('0 - Legit | 1 - Fraud - undersample')\n",
    "plt.xlabel('Class')\n",
    "plt.ylabel('Count')\n",
    "plt.show()"
   ]
  },
  {
   "cell_type": "code",
   "execution_count": 46,
   "metadata": {},
   "outputs": [],
   "source": [
    "chi2_stats = {}\n",
    "columns = under_df.columns\n",
    "for column in columns:\n",
    "    conti_table = pd.crosstab(under_df[column], under_df['EVENT_LABEL'])\n",
    "    chi2,p_value,_,_ = chi2_contingency(conti_table)\n",
    "    chi2_stats[column] = {'chi2_statistic':chi2, 'p_value':p_value}"
   ]
  },
  {
   "cell_type": "code",
   "execution_count": 55,
   "metadata": {},
   "outputs": [],
   "source": [
    "sorted_chi2_results = sorted(chi2_stats.items(), key=lambda x: x[1]['chi2_statistic'], reverse=True)"
   ]
  },
  {
   "cell_type": "code",
   "execution_count": 56,
   "metadata": {},
   "outputs": [
    {
     "data": {
      "text/plain": [
       "[('EVENT_LABEL', {'chi2_statistic': 16220.000246548323, 'p_value': 0.0}),\n",
       " ('inital_amount',\n",
       "  {'chi2_statistic': 9621.419047619049, 'p_value': 0.3115709123176491}),\n",
       " ('ip_address',\n",
       "  {'chi2_statistic': 8619.968253968254, 'p_value': 5.685327415625177e-09}),\n",
       " ('billing_postal',\n",
       "  {'chi2_statistic': 7231.667388167388, 'p_value': 0.807364222967344}),\n",
       " ('transaction_adj_amt',\n",
       "  {'chi2_statistic': 7052.965550302131, 'p_value': 0.0}),\n",
       " ('card_bin',\n",
       "  {'chi2_statistic': 6189.472938172938, 'p_value': 1.895254601966705e-30}),\n",
       " ('billing_city',\n",
       "  {'chi2_statistic': 6138.780519480519, 'p_value': 0.391652822677459}),\n",
       " ('account_age_days',\n",
       "  {'chi2_statistic': 5866.829736929736, 'p_value': 7.684582351497765e-44}),\n",
       " ('historic_velocity',\n",
       "  {'chi2_statistic': 4902.090009990009, 'p_value': 0.12025160559574617}),\n",
       " ('transaction_amt',\n",
       "  {'chi2_statistic': 3950.6797389283065, 'p_value': 2.349235955694429e-47}),\n",
       " ('transaction_env', {'chi2_statistic': 2106.0830855544414, 'p_value': 0.0}),\n",
       " ('transaction_type', {'chi2_statistic': 1724.7219107861952, 'p_value': 0.0}),\n",
       " ('signature_image', {'chi2_statistic': 1549.8473469654436, 'p_value': 0.0}),\n",
       " ('locale',\n",
       "  {'chi2_statistic': 300.5499036260672, 'p_value': 0.3681602208236568}),\n",
       " ('currency',\n",
       "  {'chi2_statistic': 109.14617517689453, 'p_value': 1.675248529865225e-23}),\n",
       " ('days_since_last_logon',\n",
       "  {'chi2_statistic': 100.5001741281485, 'p_value': 0.46714355753625664}),\n",
       " ('billing_state',\n",
       "  {'chi2_statistic': 54.470826862674365, 'p_value': 0.13391944120009794}),\n",
       " ('day',\n",
       "  {'chi2_statistic': 39.422570402647096, 'p_value': 0.11654091147655589}),\n",
       " ('hour', {'chi2_statistic': 23.9136170350339, 'p_value': 0.4086047243619268}),\n",
       " ('tranaction_initiate',\n",
       "  {'chi2_statistic': 22.553879423112015, 'p_value': 0.6580450787091479}),\n",
       " ('month',\n",
       "  {'chi2_statistic': 10.78826511592686, 'p_value': 0.46116860160664463}),\n",
       " ('os',\n",
       "  {'chi2_statistic': 5.6565931991904455, 'p_value': 0.46273588934982113}),\n",
       " ('weekday',\n",
       "  {'chi2_statistic': 5.147712823102491, 'p_value': 0.5250124000319201}),\n",
       " ('browser',\n",
       "  {'chi2_statistic': 0.49313008388371254, 'p_value': 0.7814805308727092}),\n",
       " ('year',\n",
       "  {'chi2_statistic': 0.270306598940233, 'p_value': 0.6031261772890117})]"
      ]
     },
     "execution_count": 56,
     "metadata": {},
     "output_type": "execute_result"
    }
   ],
   "source": [
    "sorted_chi2_results"
   ]
  }
 ],
 "metadata": {
  "kernelspec": {
   "display_name": "data_mining",
   "language": "python",
   "name": "python3"
  },
  "language_info": {
   "codemirror_mode": {
    "name": "ipython",
    "version": 3
   },
   "file_extension": ".py",
   "mimetype": "text/x-python",
   "name": "python",
   "nbconvert_exporter": "python",
   "pygments_lexer": "ipython3",
   "version": "3.12.2"
  }
 },
 "nbformat": 4,
 "nbformat_minor": 2
}
