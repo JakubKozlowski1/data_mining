{
 "cells": [
  {
   "cell_type": "markdown",
   "metadata": {},
   "source": [
    "#TODO\n",
    "1. What to do with NAs\n",
    "    - 160 out of 3000 is in fraud transactions\n",
    "    - More description in cell with count of missing values in fraud transactions\n",
    "2. Delete ID columns\n",
    "3. Variable selection\n",
    "4. Time series na kolumne 'event timestamp' (?) lub całkowite zaufanie ze model dobrze zlapie\n",
    "5. Bez komplikacji raczej wbudowanych na twardo reguł.\n",
    "6. Do EDA outliers itd.\n",
    "    - investigate more the outliers, check if they are in frauds."
   ]
  },
  {
   "cell_type": "code",
   "execution_count": 4,
   "metadata": {},
   "outputs": [],
   "source": [
    "import pandas as pd\n",
    "import numpy as np\n",
    "import matplotlib.pyplot as plt\n",
    "import seaborn as sns\n",
    "import os"
   ]
  },
  {
   "cell_type": "markdown",
   "metadata": {},
   "source": [
    "# Loading data"
   ]
  },
  {
   "cell_type": "code",
   "execution_count": 27,
   "metadata": {},
   "outputs": [],
   "source": [
    "path = os.getcwd() + '/data/fraud_challenge_150k.csv'\n",
    "data = pd.read_csv(path)"
   ]
  },
  {
   "cell_type": "markdown",
   "metadata": {},
   "source": [
    "# Exploration"
   ]
  },
  {
   "cell_type": "code",
   "execution_count": 8,
   "metadata": {},
   "outputs": [
    {
     "data": {
      "text/html": [
       "<div>\n",
       "<style scoped>\n",
       "    .dataframe tbody tr th:only-of-type {\n",
       "        vertical-align: middle;\n",
       "    }\n",
       "\n",
       "    .dataframe tbody tr th {\n",
       "        vertical-align: top;\n",
       "    }\n",
       "\n",
       "    .dataframe thead th {\n",
       "        text-align: right;\n",
       "    }\n",
       "</style>\n",
       "<table border=\"1\" class=\"dataframe\">\n",
       "  <thead>\n",
       "    <tr style=\"text-align: right;\">\n",
       "      <th></th>\n",
       "      <th>account_age_days</th>\n",
       "      <th>transaction_amt</th>\n",
       "      <th>transaction_adj_amt</th>\n",
       "      <th>historic_velocity</th>\n",
       "      <th>ip_address</th>\n",
       "      <th>user_agent</th>\n",
       "      <th>email_domain</th>\n",
       "      <th>phone_number</th>\n",
       "      <th>billing_city</th>\n",
       "      <th>billing_postal</th>\n",
       "      <th>...</th>\n",
       "      <th>transaction_env</th>\n",
       "      <th>EVENT_TIMESTAMP</th>\n",
       "      <th>applicant_name</th>\n",
       "      <th>billing_address</th>\n",
       "      <th>merchant_id</th>\n",
       "      <th>locale</th>\n",
       "      <th>tranaction_initiate</th>\n",
       "      <th>days_since_last_logon</th>\n",
       "      <th>inital_amount</th>\n",
       "      <th>EVENT_LABEL</th>\n",
       "    </tr>\n",
       "  </thead>\n",
       "  <tbody>\n",
       "    <tr>\n",
       "      <th>0</th>\n",
       "      <td>3371.0</td>\n",
       "      <td>2167.0</td>\n",
       "      <td>56.0</td>\n",
       "      <td>2572.0</td>\n",
       "      <td>154.68.49.124</td>\n",
       "      <td>Opera/9.81.(Windows NT 10.0; ht-HT) Presto/2.9...</td>\n",
       "      <td>perez-garza.com</td>\n",
       "      <td>878-111-5140</td>\n",
       "      <td>Woodsburgh</td>\n",
       "      <td>96336.0</td>\n",
       "      <td>...</td>\n",
       "      <td>X</td>\n",
       "      <td>2020-12-29 09:05:51</td>\n",
       "      <td>Linda Wright</td>\n",
       "      <td>4684 Sharon Ranch</td>\n",
       "      <td>066-82-8795</td>\n",
       "      <td>niu_NZ</td>\n",
       "      <td>O</td>\n",
       "      <td>59.0</td>\n",
       "      <td>13646.0</td>\n",
       "      <td>legit</td>\n",
       "    </tr>\n",
       "    <tr>\n",
       "      <th>1</th>\n",
       "      <td>2714.0</td>\n",
       "      <td>2045.0</td>\n",
       "      <td>48.0</td>\n",
       "      <td>4517.0</td>\n",
       "      <td>39.131.125.85</td>\n",
       "      <td>Opera/9.76.(X11; Linux i686; mi-NZ) Presto/2.9...</td>\n",
       "      <td>mcneil-ortega.com</td>\n",
       "      <td>(002)736-0139</td>\n",
       "      <td>West Kevin</td>\n",
       "      <td>78083.0</td>\n",
       "      <td>...</td>\n",
       "      <td>W</td>\n",
       "      <td>2021-06-22 18:05:06</td>\n",
       "      <td>Terri Rivera</td>\n",
       "      <td>7642 Allison Ramp</td>\n",
       "      <td>669-99-9459</td>\n",
       "      <td>apn_IN</td>\n",
       "      <td>J</td>\n",
       "      <td>0.0</td>\n",
       "      <td>11930.0</td>\n",
       "      <td>legit</td>\n",
       "    </tr>\n",
       "    <tr>\n",
       "      <th>2</th>\n",
       "      <td>6987.0</td>\n",
       "      <td>2892.0</td>\n",
       "      <td>61.0</td>\n",
       "      <td>5007.0</td>\n",
       "      <td>166.245.194.83</td>\n",
       "      <td>Mozilla/5.0 (X11; Linux x86_64; rv:1.9.6.20) G...</td>\n",
       "      <td>davis-calderon.com</td>\n",
       "      <td>(983)585-2863x652</td>\n",
       "      <td>Lorichester</td>\n",
       "      <td>83236.0</td>\n",
       "      <td>...</td>\n",
       "      <td>X</td>\n",
       "      <td>2021-05-10 13:48:38</td>\n",
       "      <td>Sarah Gray</td>\n",
       "      <td>4948 Lisa Passage</td>\n",
       "      <td>086-41-1624</td>\n",
       "      <td>dv_MV</td>\n",
       "      <td>T</td>\n",
       "      <td>83.0</td>\n",
       "      <td>7412.0</td>\n",
       "      <td>legit</td>\n",
       "    </tr>\n",
       "    <tr>\n",
       "      <th>3</th>\n",
       "      <td>2712.0</td>\n",
       "      <td>3040.0</td>\n",
       "      <td>28.0</td>\n",
       "      <td>6022.0</td>\n",
       "      <td>100.1.217.216</td>\n",
       "      <td>Mozilla/5.0 (Macintosh; Intel Mac OS X 10 9_3 ...</td>\n",
       "      <td>rose-lee.org</td>\n",
       "      <td>+1-678-897-3420x60738</td>\n",
       "      <td>Stephenmouth</td>\n",
       "      <td>78364.0</td>\n",
       "      <td>...</td>\n",
       "      <td>N</td>\n",
       "      <td>2021-03-11 07:36:40</td>\n",
       "      <td>Valerie Jenkins</td>\n",
       "      <td>1616 Little Camp</td>\n",
       "      <td>669-97-4021</td>\n",
       "      <td>byn_ER</td>\n",
       "      <td>M</td>\n",
       "      <td>24.0</td>\n",
       "      <td>4623.0</td>\n",
       "      <td>legit</td>\n",
       "    </tr>\n",
       "    <tr>\n",
       "      <th>4</th>\n",
       "      <td>3598.0</td>\n",
       "      <td>2976.0</td>\n",
       "      <td>66.0</td>\n",
       "      <td>2600.0</td>\n",
       "      <td>113.156.65.245</td>\n",
       "      <td>Mozilla/5.0 (X11; Linux x86_64; rv:1.9.5.20) G...</td>\n",
       "      <td>nash.net</td>\n",
       "      <td>(013)204-1766x92641</td>\n",
       "      <td>New Brianmouth</td>\n",
       "      <td>77499.0</td>\n",
       "      <td>...</td>\n",
       "      <td>G</td>\n",
       "      <td>2021-03-27 06:13:35</td>\n",
       "      <td>Amy Coleman</td>\n",
       "      <td>149 Harris Rapid</td>\n",
       "      <td>088-21-6329</td>\n",
       "      <td>the_NP</td>\n",
       "      <td>K</td>\n",
       "      <td>21.0</td>\n",
       "      <td>1905.0</td>\n",
       "      <td>legit</td>\n",
       "    </tr>\n",
       "  </tbody>\n",
       "</table>\n",
       "<p>5 rows × 26 columns</p>\n",
       "</div>"
      ],
      "text/plain": [
       "   account_age_days  transaction_amt  transaction_adj_amt  historic_velocity  \\\n",
       "0            3371.0           2167.0                 56.0             2572.0   \n",
       "1            2714.0           2045.0                 48.0             4517.0   \n",
       "2            6987.0           2892.0                 61.0             5007.0   \n",
       "3            2712.0           3040.0                 28.0             6022.0   \n",
       "4            3598.0           2976.0                 66.0             2600.0   \n",
       "\n",
       "       ip_address                                         user_agent  \\\n",
       "0   154.68.49.124  Opera/9.81.(Windows NT 10.0; ht-HT) Presto/2.9...   \n",
       "1   39.131.125.85  Opera/9.76.(X11; Linux i686; mi-NZ) Presto/2.9...   \n",
       "2  166.245.194.83  Mozilla/5.0 (X11; Linux x86_64; rv:1.9.6.20) G...   \n",
       "3   100.1.217.216  Mozilla/5.0 (Macintosh; Intel Mac OS X 10 9_3 ...   \n",
       "4  113.156.65.245  Mozilla/5.0 (X11; Linux x86_64; rv:1.9.5.20) G...   \n",
       "\n",
       "         email_domain           phone_number    billing_city  billing_postal  \\\n",
       "0     perez-garza.com           878-111-5140      Woodsburgh         96336.0   \n",
       "1   mcneil-ortega.com          (002)736-0139      West Kevin         78083.0   \n",
       "2  davis-calderon.com      (983)585-2863x652     Lorichester         83236.0   \n",
       "3        rose-lee.org  +1-678-897-3420x60738    Stephenmouth         78364.0   \n",
       "4            nash.net    (013)204-1766x92641  New Brianmouth         77499.0   \n",
       "\n",
       "   ... transaction_env      EVENT_TIMESTAMP   applicant_name  \\\n",
       "0  ...               X  2020-12-29 09:05:51     Linda Wright   \n",
       "1  ...               W  2021-06-22 18:05:06     Terri Rivera   \n",
       "2  ...               X  2021-05-10 13:48:38       Sarah Gray   \n",
       "3  ...               N  2021-03-11 07:36:40  Valerie Jenkins   \n",
       "4  ...               G  2021-03-27 06:13:35      Amy Coleman   \n",
       "\n",
       "     billing_address  merchant_id  locale tranaction_initiate  \\\n",
       "0  4684 Sharon Ranch  066-82-8795  niu_NZ                   O   \n",
       "1  7642 Allison Ramp  669-99-9459  apn_IN                   J   \n",
       "2  4948 Lisa Passage  086-41-1624   dv_MV                   T   \n",
       "3   1616 Little Camp  669-97-4021  byn_ER                   M   \n",
       "4   149 Harris Rapid  088-21-6329  the_NP                   K   \n",
       "\n",
       "  days_since_last_logon inital_amount EVENT_LABEL  \n",
       "0                  59.0       13646.0       legit  \n",
       "1                   0.0       11930.0       legit  \n",
       "2                  83.0        7412.0       legit  \n",
       "3                  24.0        4623.0       legit  \n",
       "4                  21.0        1905.0       legit  \n",
       "\n",
       "[5 rows x 26 columns]"
      ]
     },
     "execution_count": 8,
     "metadata": {},
     "output_type": "execute_result"
    }
   ],
   "source": [
    "data.head()"
   ]
  },
  {
   "cell_type": "code",
   "execution_count": 10,
   "metadata": {},
   "outputs": [
    {
     "name": "stdout",
     "output_type": "stream",
     "text": [
      "<class 'pandas.core.frame.DataFrame'>\n",
      "RangeIndex: 150000 entries, 0 to 149999\n",
      "Data columns (total 26 columns):\n",
      " #   Column                 Non-Null Count   Dtype  \n",
      "---  ------                 --------------   -----  \n",
      " 0   account_age_days       149892 non-null  float64\n",
      " 1   transaction_amt        149870 non-null  float64\n",
      " 2   transaction_adj_amt    149886 non-null  float64\n",
      " 3   historic_velocity      149885 non-null  float64\n",
      " 4   ip_address             149873 non-null  object \n",
      " 5   user_agent             149887 non-null  object \n",
      " 6   email_domain           149910 non-null  object \n",
      " 7   phone_number           149873 non-null  object \n",
      " 8   billing_city           149884 non-null  object \n",
      " 9   billing_postal         149876 non-null  float64\n",
      " 10  billing_state          149887 non-null  object \n",
      " 11  card_bin               149872 non-null  float64\n",
      " 12  currency               149892 non-null  object \n",
      " 13  cvv                    149877 non-null  object \n",
      " 14  signature_image        149895 non-null  object \n",
      " 15  transaction_type       149884 non-null  object \n",
      " 16  transaction_env        149877 non-null  object \n",
      " 17  EVENT_TIMESTAMP        149888 non-null  object \n",
      " 18  applicant_name         149857 non-null  object \n",
      " 19  billing_address        149866 non-null  object \n",
      " 20  merchant_id            149893 non-null  object \n",
      " 21  locale                 149866 non-null  object \n",
      " 22  tranaction_initiate    149874 non-null  object \n",
      " 23  days_since_last_logon  149864 non-null  float64\n",
      " 24  inital_amount          149872 non-null  float64\n",
      " 25  EVENT_LABEL            150000 non-null  object \n",
      "dtypes: float64(8), object(18)\n",
      "memory usage: 29.8+ MB\n"
     ]
    }
   ],
   "source": [
    "data.info()"
   ]
  },
  {
   "cell_type": "code",
   "execution_count": 13,
   "metadata": {},
   "outputs": [
    {
     "data": {
      "text/plain": [
       "Index(['account_age_days', 'transaction_amt', 'transaction_adj_amt',\n",
       "       'historic_velocity', 'ip_address', 'user_agent', 'email_domain',\n",
       "       'phone_number', 'billing_city', 'billing_postal', 'billing_state',\n",
       "       'card_bin', 'currency', 'cvv', 'signature_image', 'transaction_type',\n",
       "       'transaction_env', 'EVENT_TIMESTAMP', 'applicant_name',\n",
       "       'billing_address', 'merchant_id', 'locale', 'tranaction_initiate',\n",
       "       'days_since_last_logon', 'inital_amount', 'EVENT_LABEL'],\n",
       "      dtype='object')"
      ]
     },
     "execution_count": 13,
     "metadata": {},
     "output_type": "execute_result"
    }
   ],
   "source": [
    "data.columns"
   ]
  },
  {
   "cell_type": "code",
   "execution_count": 29,
   "metadata": {},
   "outputs": [
    {
     "data": {
      "text/plain": [
       "EVENT_LABEL\n",
       "legit    141836\n",
       "fraud      8164\n",
       "Name: count, dtype: int64"
      ]
     },
     "execution_count": 29,
     "metadata": {},
     "output_type": "execute_result"
    }
   ],
   "source": [
    "data['EVENT_LABEL'].value_counts()"
   ]
  },
  {
   "cell_type": "code",
   "execution_count": 30,
   "metadata": {},
   "outputs": [],
   "source": [
    "data['EVENT_LABEL'] = [0 if x == 'legit' else 1 for x in data['EVENT_LABEL']]"
   ]
  },
  {
   "cell_type": "code",
   "execution_count": 64,
   "metadata": {},
   "outputs": [
    {
     "data": {
      "image/png": "[encoded data removed]",
      "text/plain": [
       "<Figure size 640x480 with 1 Axes>"
      ]
     },
     "metadata": {},
     "output_type": "display_data"
    }
   ],
   "source": [
    "sns.countplot(data, x='EVENT_LABEL')\n",
    "plt.title('0 - Legit | 1 - Fraud - high imbalance')\n",
    "plt.xlabel('Class')\n",
    "plt.ylabel('Count')\n",
    "plt.show()"
   ]
  },
  {
   "cell_type": "code",
   "execution_count": 49,
   "metadata": {},
   "outputs": [
    {
     "name": "stdout",
     "output_type": "stream",
     "text": [
      "There is 5.44% of fraud transactions, which is 8164 transactions.\n",
      "There is 94.56% of legit transactions, which is 141836 transactions.\n"
     ]
    }
   ],
   "source": [
    "all_rows = data['EVENT_LABEL'].count()\n",
    "fraud_rows = data['EVENT_LABEL'].sum()\n",
    "legit_rows = all_rows - fraud_rows\n",
    "print(f'There is {round((fraud_rows/all_rows)*100, 2)}% of fraud transactions, which is {fraud_rows} transactions.')\n",
    "print(f'There is {round((legit_rows/all_rows)*100, 2)}% of legit transactions, which is {legit_rows} transactions.')"
   ]
  },
  {
   "cell_type": "code",
   "execution_count": 63,
   "metadata": {},
   "outputs": [
    {
     "data": {
      "text/plain": [
       "account_age_days          6\n",
       "transaction_amt           8\n",
       "transaction_adj_amt      10\n",
       "historic_velocity         3\n",
       "ip_address                5\n",
       "user_agent                7\n",
       "email_domain              2\n",
       "phone_number              5\n",
       "billing_city              5\n",
       "billing_postal            8\n",
       "billing_state             7\n",
       "card_bin                  8\n",
       "currency                  7\n",
       "cvv                      11\n",
       "signature_image           7\n",
       "transaction_type          5\n",
       "transaction_env           2\n",
       "EVENT_TIMESTAMP           6\n",
       "applicant_name            4\n",
       "billing_address          10\n",
       "merchant_id               5\n",
       "locale                    6\n",
       "tranaction_initiate       4\n",
       "days_since_last_logon     9\n",
       "inital_amount            10\n",
       "EVENT_LABEL               0\n",
       "dtype: int64"
      ]
     },
     "execution_count": 63,
     "metadata": {},
     "output_type": "execute_result"
    }
   ],
   "source": [
    "# Rows with legit transactions and missing data can be deleted. Those who has fraud should be looked at more, after variable selection.\n",
    "# Those with irrelevant columns can be supplemented with some default value, and those with important data missing imputed or deleted.\n",
    "missing_rows = data[data.isna().any(axis=1)]\n",
    "missing_fraud = missing_rows[missing_rows['EVENT_LABEL'] == 1]\n",
    "missing_fraud.isna().sum()"
   ]
  },
  {
   "cell_type": "code",
   "execution_count": 65,
   "metadata": {},
   "outputs": [
    {
     "data": {
      "text/html": [
       "<div>\n",
       "<style scoped>\n",
       "    .dataframe tbody tr th:only-of-type {\n",
       "        vertical-align: middle;\n",
       "    }\n",
       "\n",
       "    .dataframe tbody tr th {\n",
       "        vertical-align: top;\n",
       "    }\n",
       "\n",
       "    .dataframe thead th {\n",
       "        text-align: right;\n",
       "    }\n",
       "</style>\n",
       "<table border=\"1\" class=\"dataframe\">\n",
       "  <thead>\n",
       "    <tr style=\"text-align: right;\">\n",
       "      <th></th>\n",
       "      <th>account_age_days</th>\n",
       "      <th>transaction_amt</th>\n",
       "      <th>transaction_adj_amt</th>\n",
       "      <th>historic_velocity</th>\n",
       "      <th>billing_postal</th>\n",
       "      <th>card_bin</th>\n",
       "      <th>days_since_last_logon</th>\n",
       "      <th>inital_amount</th>\n",
       "      <th>EVENT_LABEL</th>\n",
       "    </tr>\n",
       "  </thead>\n",
       "  <tbody>\n",
       "    <tr>\n",
       "      <th>count</th>\n",
       "      <td>149892.000000</td>\n",
       "      <td>149870.000000</td>\n",
       "      <td>149886.000000</td>\n",
       "      <td>149885.000000</td>\n",
       "      <td>149876.000000</td>\n",
       "      <td>149872.000000</td>\n",
       "      <td>149864.000000</td>\n",
       "      <td>149872.000000</td>\n",
       "      <td>150000.000000</td>\n",
       "    </tr>\n",
       "    <tr>\n",
       "      <th>mean</th>\n",
       "      <td>4645.751995</td>\n",
       "      <td>2521.458944</td>\n",
       "      <td>54.202434</td>\n",
       "      <td>4702.200033</td>\n",
       "      <td>50190.088160</td>\n",
       "      <td>41837.521512</td>\n",
       "      <td>49.866392</td>\n",
       "      <td>7998.025275</td>\n",
       "      <td>0.054427</td>\n",
       "    </tr>\n",
       "    <tr>\n",
       "      <th>std</th>\n",
       "      <td>1153.816155</td>\n",
       "      <td>604.524161</td>\n",
       "      <td>10.070401</td>\n",
       "      <td>1188.476704</td>\n",
       "      <td>28378.078852</td>\n",
       "      <td>10080.587192</td>\n",
       "      <td>29.204766</td>\n",
       "      <td>4047.071560</td>\n",
       "      <td>0.226858</td>\n",
       "    </tr>\n",
       "    <tr>\n",
       "      <th>min</th>\n",
       "      <td>1.000000</td>\n",
       "      <td>5.000000</td>\n",
       "      <td>1.000000</td>\n",
       "      <td>50.000000</td>\n",
       "      <td>503.000000</td>\n",
       "      <td>6040.000000</td>\n",
       "      <td>0.000000</td>\n",
       "      <td>1000.000000</td>\n",
       "      <td>0.000000</td>\n",
       "    </tr>\n",
       "    <tr>\n",
       "      <th>25%</th>\n",
       "      <td>3824.000000</td>\n",
       "      <td>2103.000000</td>\n",
       "      <td>48.000000</td>\n",
       "      <td>3872.000000</td>\n",
       "      <td>25314.000000</td>\n",
       "      <td>35386.000000</td>\n",
       "      <td>24.000000</td>\n",
       "      <td>4487.000000</td>\n",
       "      <td>0.000000</td>\n",
       "    </tr>\n",
       "    <tr>\n",
       "      <th>50%</th>\n",
       "      <td>4667.000000</td>\n",
       "      <td>2544.000000</td>\n",
       "      <td>55.000000</td>\n",
       "      <td>4730.000000</td>\n",
       "      <td>50117.000000</td>\n",
       "      <td>42086.000000</td>\n",
       "      <td>50.000000</td>\n",
       "      <td>8002.000000</td>\n",
       "      <td>0.000000</td>\n",
       "    </tr>\n",
       "    <tr>\n",
       "      <th>75%</th>\n",
       "      <td>5476.000000</td>\n",
       "      <td>2951.000000</td>\n",
       "      <td>61.000000</td>\n",
       "      <td>5548.000000</td>\n",
       "      <td>74338.000000</td>\n",
       "      <td>47374.000000</td>\n",
       "      <td>75.000000</td>\n",
       "      <td>11494.000000</td>\n",
       "      <td>0.000000</td>\n",
       "    </tr>\n",
       "    <tr>\n",
       "      <th>max</th>\n",
       "      <td>9119.000000</td>\n",
       "      <td>4999.000000</td>\n",
       "      <td>99.000000</td>\n",
       "      <td>9999.000000</td>\n",
       "      <td>99950.000000</td>\n",
       "      <td>67639.000000</td>\n",
       "      <td>100.000000</td>\n",
       "      <td>15000.000000</td>\n",
       "      <td>1.000000</td>\n",
       "    </tr>\n",
       "  </tbody>\n",
       "</table>\n",
       "</div>"
      ],
      "text/plain": [
       "       account_age_days  transaction_amt  transaction_adj_amt  \\\n",
       "count     149892.000000    149870.000000        149886.000000   \n",
       "mean        4645.751995      2521.458944            54.202434   \n",
       "std         1153.816155       604.524161            10.070401   \n",
       "min            1.000000         5.000000             1.000000   \n",
       "25%         3824.000000      2103.000000            48.000000   \n",
       "50%         4667.000000      2544.000000            55.000000   \n",
       "75%         5476.000000      2951.000000            61.000000   \n",
       "max         9119.000000      4999.000000            99.000000   \n",
       "\n",
       "       historic_velocity  billing_postal       card_bin  \\\n",
       "count      149885.000000   149876.000000  149872.000000   \n",
       "mean         4702.200033    50190.088160   41837.521512   \n",
       "std          1188.476704    28378.078852   10080.587192   \n",
       "min            50.000000      503.000000    6040.000000   \n",
       "25%          3872.000000    25314.000000   35386.000000   \n",
       "50%          4730.000000    50117.000000   42086.000000   \n",
       "75%          5548.000000    74338.000000   47374.000000   \n",
       "max          9999.000000    99950.000000   67639.000000   \n",
       "\n",
       "       days_since_last_logon  inital_amount    EVENT_LABEL  \n",
       "count          149864.000000  149872.000000  150000.000000  \n",
       "mean               49.866392    7998.025275       0.054427  \n",
       "std                29.204766    4047.071560       0.226858  \n",
       "min                 0.000000    1000.000000       0.000000  \n",
       "25%                24.000000    4487.000000       0.000000  \n",
       "50%                50.000000    8002.000000       0.000000  \n",
       "75%                75.000000   11494.000000       0.000000  \n",
       "max               100.000000   15000.000000       1.000000  "
      ]
     },
     "execution_count": 65,
     "metadata": {},
     "output_type": "execute_result"
    }
   ],
   "source": [
    "data.describe()"
   ]
  },
  {
   "cell_type": "code",
   "execution_count": 67,
   "metadata": {},
   "outputs": [
    {
     "data": {
      "image/png": "[encoded data removed]",
      "text/plain": [
       "<Figure size 640x480 with 1 Axes>"
      ]
     },
     "metadata": {},
     "output_type": "display_data"
    }
   ],
   "source": [
    "sns.boxplot(data)\n",
    "plt.tight_layout() \n",
    "plt.show()"
   ]
  },
  {
   "cell_type": "markdown",
   "metadata": {},
   "source": [
    "## Cleaning"
   ]
  },
  {
   "cell_type": "code",
   "execution_count": null,
   "metadata": {},
   "outputs": [],
   "source": []
  }
 ],
 "metadata": {
  "kernelspec": {
   "display_name": "env3114",
   "language": "python",
   "name": "python3"
  },
  "language_info": {
   "codemirror_mode": {
    "name": "ipython",
    "version": 3
   },
   "file_extension": ".py",
   "mimetype": "text/x-python",
   "name": "python",
   "nbconvert_exporter": "python",
   "pygments_lexer": "ipython3",
   "version": "3.12.2"
  }
 },
 "nbformat": 4,
 "nbformat_minor": 2
}
